{
 "cells": [
  {
   "cell_type": "code",
   "execution_count": 28,
   "id": "32f26149",
   "metadata": {},
   "outputs": [],
   "source": [
    "## ::: NOTE ::: this script requires the R packages 'stringr' and 'DESeq2'. Please download them into the environment from which you will run this script.\n",
    "\n",
    "##if these packages are not installed, uncomment the next two lines\n",
    "#BiocManager::install(\"stringr\", force = TRUE)\n",
    "#BiocManager::install(\"DESeq2\", force = TRUE)\n",
    "\n",
    "library(DESeq2)\n",
    "library(stringr)"
   ]
  },
  {
   "cell_type": "code",
   "execution_count": 68,
   "id": "ff52946e",
   "metadata": {},
   "outputs": [],
   "source": [
    "##read in the 'gene_count_matrix.csv' file we created from the make-deseq-reable-files.qsub script\n",
    "countData <- as.matrix(read.csv(\"gene_count_matrix.csv\", row.names=\"gene_id\"))"
   ]
  },
  {
   "cell_type": "code",
   "execution_count": 69,
   "id": "bcc2bfa2",
   "metadata": {},
   "outputs": [
    {
     "data": {
      "text/html": [
       "<table class=\"dataframe\">\n",
       "<caption>A matrix: 6 × 12 of type int</caption>\n",
       "<thead>\n",
       "\t<tr><th></th><th scope=col>SRR10416456</th><th scope=col>SRR10416457</th><th scope=col>SRR10416458</th><th scope=col>SRR10416459</th><th scope=col>SRR10416460</th><th scope=col>SRR10416461</th><th scope=col>SRR10416462</th><th scope=col>SRR10416463</th><th scope=col>SRR10416464</th><th scope=col>SRR10416465</th><th scope=col>SRR10416466</th><th scope=col>SRR10416467</th></tr>\n",
       "</thead>\n",
       "<tbody>\n",
       "\t<tr><th scope=row>MSTRG.30</th><td>   0</td><td>   0</td><td> 0</td><td> 155</td><td>   0</td><td>  0</td><td>   0</td><td>   0</td><td> 829</td><td> 167</td><td> 202</td><td>   0</td></tr>\n",
       "\t<tr><th scope=row>MSTRG.4</th><td> 340</td><td>2128</td><td> 2</td><td> 202</td><td> 375</td><td>  2</td><td>  81</td><td> 490</td><td> 166</td><td> 660</td><td>1416</td><td>1338</td></tr>\n",
       "\t<tr><th scope=row>MSTRG.31</th><td> 585</td><td>1434</td><td> 5</td><td> 976</td><td> 292</td><td>336</td><td>   0</td><td> 436</td><td>1271</td><td>2155</td><td> 508</td><td>1842</td></tr>\n",
       "\t<tr><th scope=row>MSTRG.7</th><td> 795</td><td> 187</td><td> 1</td><td>1079</td><td> 152</td><td>160</td><td>1915</td><td> 470</td><td> 882</td><td> 992</td><td>1616</td><td> 626</td></tr>\n",
       "\t<tr><th scope=row>MSTRG.28</th><td>1105</td><td> 412</td><td>83</td><td> 486</td><td>1250</td><td>822</td><td> 293</td><td>1794</td><td>1934</td><td>2990</td><td> 622</td><td>2508</td></tr>\n",
       "\t<tr><th scope=row>MSTRG.5</th><td> 520</td><td>   0</td><td>17</td><td>  60</td><td>   0</td><td>  0</td><td>   0</td><td> 169</td><td> 285</td><td> 420</td><td>  69</td><td> 120</td></tr>\n",
       "</tbody>\n",
       "</table>\n"
      ],
      "text/latex": [
       "A matrix: 6 × 12 of type int\n",
       "\\begin{tabular}{r|llllllllllll}\n",
       "  & SRR10416456 & SRR10416457 & SRR10416458 & SRR10416459 & SRR10416460 & SRR10416461 & SRR10416462 & SRR10416463 & SRR10416464 & SRR10416465 & SRR10416466 & SRR10416467\\\\\n",
       "\\hline\n",
       "\tMSTRG.30 &    0 &    0 &  0 &  155 &    0 &   0 &    0 &    0 &  829 &  167 &  202 &    0\\\\\n",
       "\tMSTRG.4 &  340 & 2128 &  2 &  202 &  375 &   2 &   81 &  490 &  166 &  660 & 1416 & 1338\\\\\n",
       "\tMSTRG.31 &  585 & 1434 &  5 &  976 &  292 & 336 &    0 &  436 & 1271 & 2155 &  508 & 1842\\\\\n",
       "\tMSTRG.7 &  795 &  187 &  1 & 1079 &  152 & 160 & 1915 &  470 &  882 &  992 & 1616 &  626\\\\\n",
       "\tMSTRG.28 & 1105 &  412 & 83 &  486 & 1250 & 822 &  293 & 1794 & 1934 & 2990 &  622 & 2508\\\\\n",
       "\tMSTRG.5 &  520 &    0 & 17 &   60 &    0 &   0 &    0 &  169 &  285 &  420 &   69 &  120\\\\\n",
       "\\end{tabular}\n"
      ],
      "text/markdown": [
       "\n",
       "A matrix: 6 × 12 of type int\n",
       "\n",
       "| <!--/--> | SRR10416456 | SRR10416457 | SRR10416458 | SRR10416459 | SRR10416460 | SRR10416461 | SRR10416462 | SRR10416463 | SRR10416464 | SRR10416465 | SRR10416466 | SRR10416467 |\n",
       "|---|---|---|---|---|---|---|---|---|---|---|---|---|\n",
       "| MSTRG.30 |    0 |    0 |  0 |  155 |    0 |   0 |    0 |    0 |  829 |  167 |  202 |    0 |\n",
       "| MSTRG.4 |  340 | 2128 |  2 |  202 |  375 |   2 |   81 |  490 |  166 |  660 | 1416 | 1338 |\n",
       "| MSTRG.31 |  585 | 1434 |  5 |  976 |  292 | 336 |    0 |  436 | 1271 | 2155 |  508 | 1842 |\n",
       "| MSTRG.7 |  795 |  187 |  1 | 1079 |  152 | 160 | 1915 |  470 |  882 |  992 | 1616 |  626 |\n",
       "| MSTRG.28 | 1105 |  412 | 83 |  486 | 1250 | 822 |  293 | 1794 | 1934 | 2990 |  622 | 2508 |\n",
       "| MSTRG.5 |  520 |    0 | 17 |   60 |    0 |   0 |    0 |  169 |  285 |  420 |   69 |  120 |\n",
       "\n"
      ],
      "text/plain": [
       "         SRR10416456 SRR10416457 SRR10416458 SRR10416459 SRR10416460\n",
       "MSTRG.30    0           0         0           155           0       \n",
       "MSTRG.4   340        2128         2           202         375       \n",
       "MSTRG.31  585        1434         5           976         292       \n",
       "MSTRG.7   795         187         1          1079         152       \n",
       "MSTRG.28 1105         412        83           486        1250       \n",
       "MSTRG.5   520           0        17            60           0       \n",
       "         SRR10416461 SRR10416462 SRR10416463 SRR10416464 SRR10416465\n",
       "MSTRG.30   0            0           0         829         167       \n",
       "MSTRG.4    2           81         490         166         660       \n",
       "MSTRG.31 336            0         436        1271        2155       \n",
       "MSTRG.7  160         1915         470         882         992       \n",
       "MSTRG.28 822          293        1794        1934        2990       \n",
       "MSTRG.5    0            0         169         285         420       \n",
       "         SRR10416466 SRR10416467\n",
       "MSTRG.30  202           0       \n",
       "MSTRG.4  1416        1338       \n",
       "MSTRG.31  508        1842       \n",
       "MSTRG.7  1616         626       \n",
       "MSTRG.28  622        2508       \n",
       "MSTRG.5    69         120       "
      ]
     },
     "metadata": {},
     "output_type": "display_data"
    }
   ],
   "source": [
    "##because the columns are currently named after the folder and not the sample, we will correct that manually\n",
    "colnames(countData)<-c(\"SRR10416456\",\"SRR10416457\",\"SRR10416458\",\"SRR10416459\",\"SRR10416460\",\"SRR10416461\",\"SRR10416462\",\"SRR10416463\",\"SRR10416464\",\"SRR10416465\",\"SRR10416466\",\"SRR10416467\")\n",
    "head(countData)"
   ]
  },
  {
   "cell_type": "code",
   "execution_count": 77,
   "id": "a4f50857",
   "metadata": {},
   "outputs": [
    {
     "name": "stdout",
     "output_type": "stream",
     "text": [
      "            treatment     time  replicate\n",
      "SRR10416456 \"Reseeded\"    \"24h\" \"1\"      \n",
      "SRR10416457 \"Reseeded\"    \"05h\" \"3\"      \n",
      "SRR10416458 \"Reseeded\"    \"05h\" \"2\"      \n",
      "SRR10416459 \"Reseeded\"    \"05h\" \"1\"      \n",
      "SRR10416460 \"Diatom_only\" \"24h\" \"3\"      \n",
      "SRR10416461 \"Diatom_only\" \"24h\" \"2\"      \n",
      "SRR10416462 \"Diatom_only\" \"24h\" \"1\"      \n",
      "SRR10416463 \"Diatom_only\" \"05h\" \"3\"      \n",
      "SRR10416464 \"Reseeded\"    \"24h\" \"3\"      \n",
      "SRR10416465 \"Reseeded\"    \"24h\" \"2\"      \n",
      "SRR10416466 \"Diatom_only\" \"05h\" \"2\"      \n",
      "SRR10416467 \"Diatom_only\" \"05h\" \"1\"      \n"
     ]
    }
   ],
   "source": [
    "##each sample will be given a unqiue tag corresponding to its experimental design\n",
    "##the format is treatmen.timepoint.replicate\n",
    "##these are manually currated based on the name of the sample on NCBI 'https://www.ncbi.nlm.nih.gov/sra?LinkName=bioproject_sra_all&from_uid=588343'\n",
    "sample<-c(\"Reseeded.24h.1\", ##SRR10416456\n",
    "             \"Reseeded.05h.3\", ##SRR10416457\n",
    "             \"Reseeded.05h.2\", ##SRR10416458\n",
    "             \"Reseeded.05h.1\", ##SRR10416459\n",
    "             \"Diatom_only.24h.3\", ##SRR10416460\n",
    "             \"Diatom_only.24h.2\", ##SRR10416461\n",
    "             \"Diatom_only.24h.1\", ##SRR10416462\n",
    "             \"Diatom_only.05h.3\", ##SRR10416463\n",
    "             \"Reseeded.24h.3\", ##SRR10416464\n",
    "             \"Reseeded.24h.2\", ##SRR10416465\n",
    "             \"Diatom_only.05h.2\", ##SRR10416466\n",
    "             \"Diatom_only.05h.1\") ##SRR10416467\n",
    "\n",
    "##now we will split this tag up into each of its three parts\n",
    "splits<-str_split(sample,fixed(\".\"))\n",
    "treatment<-sapply(splits,\"[[\",1)\n",
    "time<-sapply(splits,\"[[\",2)\n",
    "replicate<-sapply(splits,\"[[\",3)\n",
    "\n",
    "##and we will use this data to create a matrix that contains all of this metadata for each sample\n",
    "matrix.data <- c(treatment,time,replicate)\n",
    "colData<-matrix(matrix.data,nrow=length(sample),ncol=3,byrow=FALSE)\n",
    "colnames(colData)<-c(\"treatment\",\"time\",\"replicate\")\n",
    "##the datatable colData should be a 12 row matrix (one for each sample) with three columns 'treatment' (reseeded or diatom only), 'time' (time point collected), and replicate (biological replicate: 1 to 3)\n",
    "##each sample should have a unique combination of these three parameters\n",
    "\n",
    "\n",
    "rownames(colData)<-colnames(countData)\n",
    "##now we rename columns of the matrix so they are identical to our countData datatable (as is required by DESeq)"
   ]
  },
  {
   "cell_type": "code",
   "execution_count": 79,
   "id": "97dae133",
   "metadata": {},
   "outputs": [
    {
     "data": {
      "text/html": [
       "TRUE"
      ],
      "text/latex": [
       "TRUE"
      ],
      "text/markdown": [
       "TRUE"
      ],
      "text/plain": [
       "[1] TRUE"
      ]
     },
     "metadata": {},
     "output_type": "display_data"
    },
    {
     "data": {
      "text/html": [
       "TRUE"
      ],
      "text/latex": [
       "TRUE"
      ],
      "text/markdown": [
       "TRUE"
      ],
      "text/plain": [
       "[1] TRUE"
      ]
     },
     "metadata": {},
     "output_type": "display_data"
    }
   ],
   "source": [
    "##we will now check whether our tables are formatted in a way DESeq asks for, as suggested by the StringTie manual (http://ccb.jhu.edu/software/stringtie/index.shtml?t=manual)\n",
    "all(rownames(colData) %in% colnames(countData))\n",
    "countData <- countData[, rownames(colData)]\n",
    "all(rownames(colData) == colnames(countData))\n",
    "##both should return TRUE"
   ]
  },
  {
   "cell_type": "code",
   "execution_count": 95,
   "id": "67df8313",
   "metadata": {},
   "outputs": [],
   "source": [
    "##now, as is done in Shibl et al. 2020, we will divide the data into two different comparisions\n",
    "##one between the reseeded culture, and the diatom alone at 0.5hrs\n",
    "##and the other between the reseeded culture, and the diatom alone at 24hrs\n",
    "first.timepoints<-colData[which(colData[,\"time\"]=='24h'),]\n",
    "first.timepoint.counts<-countData[,which(colnames(countData) %in% rownames(first.timepoints))]\n",
    "\n",
    "endpoints<-colData[which(colData[,\"time\"]=='05h'),]\n",
    "endpoint.counts<-countData[,which(colnames(countData) %in% rownames(endpoints))]\n",
    "\n",
    "\n",
    "##and we'll use this subsetted data to form a DESeq dataset\n",
    "##the design = ~ treatment flag signifies we want to compare expression between the treatment variables\n",
    "##because of the way DESeq works, the diatom_alone treatment is automatically our control because it is first alphametically\n",
    "comparing.05h <- DESeqDataSetFromMatrix(countData = first.timepoint.counts,\n",
    "        colData = first.timepoints, design = ~ treatment)\n",
    "\n",
    "comparing.24h <- DESeqDataSetFromMatrix(countData = endpoint.counts,\n",
    "        colData = endpoints, design = ~ treatment)\n",
    "\n",
    "\n",
    "#we will also still analyze the data from the 4-way treatment comparision as well\n",
    "#'design = ~ time + treatment' says we are still interested in a treatment comparision, but controlled for timepoint\n",
    "overallcomparision <- DESeqDataSetFromMatrix(countData = countData,\n",
    "        colData = colData, design = ~ time + treatment)"
   ]
  },
  {
   "cell_type": "code",
   "execution_count": 104,
   "id": "1976627c",
   "metadata": {},
   "outputs": [
    {
     "name": "stderr",
     "output_type": "stream",
     "text": [
      "estimating size factors\n",
      "\n",
      "estimating dispersions\n",
      "\n",
      "gene-wise dispersion estimates\n",
      "\n",
      "mean-dispersion relationship\n",
      "\n",
      "final dispersion estimates\n",
      "\n",
      "fitting model and testing\n",
      "\n",
      "estimating size factors\n",
      "\n",
      "estimating dispersions\n",
      "\n",
      "gene-wise dispersion estimates\n",
      "\n",
      "mean-dispersion relationship\n",
      "\n",
      "final dispersion estimates\n",
      "\n",
      "fitting model and testing\n",
      "\n",
      "estimating size factors\n",
      "\n",
      "estimating dispersions\n",
      "\n",
      "gene-wise dispersion estimates\n",
      "\n",
      "mean-dispersion relationship\n",
      "\n",
      "final dispersion estimates\n",
      "\n",
      "fitting model and testing\n",
      "\n"
     ]
    }
   ],
   "source": [
    "##now for each DESeq dataset we created, we will run a DESeq differential expression analysis on this, and save the results into a file\n",
    "##the files are : res.24 (for the 24 hour comparision), res.05 (for the 0.5hr comparision), and res.overall (for a time controlled comparision of every sample)\n",
    "\n",
    "dds.24 <- DESeq(comparing.24h)\n",
    "res.24 <- results(dds.24)\n",
    "dds.05 <- DESeq(comparing.05h)\n",
    "res.05 <- results(dds.05)\n",
    "dds.overall <- DESeq(overallcomparision)\n",
    "res.overall <- results(dds.overall)"
   ]
  },
  {
   "cell_type": "code",
   "execution_count": 112,
   "id": "734b8d0a",
   "metadata": {
    "scrolled": true
   },
   "outputs": [],
   "source": [
    "#we now write the results of this analysis to csvs that will be readble for our figuring making in our 'figure1b-circos' script\n",
    "write.table(res.24,file=\"firstimepoints.diff.ex.comparison.csv\",sep=\",\")\n",
    "write.table(res.05,file=\"endpoint.diff.ex.comparison.csv\",sep=\",\")\n",
    "write.table(res.overall,file=\"overall.diff.ex.comparison.csv\",sep=\",\")"
   ]
  }
 ],
 "metadata": {
  "kernelspec": {
   "display_name": "R",
   "language": "R",
   "name": "ir"
  },
  "language_info": {
   "codemirror_mode": "r",
   "file_extension": ".r",
   "mimetype": "text/x-r-source",
   "name": "R",
   "pygments_lexer": "r",
   "version": "4.1.1"
  }
 },
 "nbformat": 4,
 "nbformat_minor": 5
}
