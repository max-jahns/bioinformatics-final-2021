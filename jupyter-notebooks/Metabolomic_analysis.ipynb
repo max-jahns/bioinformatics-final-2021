{
 "cells": [
  {
   "cell_type": "markdown",
   "metadata": {},
   "source": [
    "# Metabolomic analysis \n",
    "\n",
    "## Intro and package downloads"
   ]
  },
  {
   "cell_type": "markdown",
   "metadata": {},
   "source": [
    "This notebook intends to reproduce some of the results of Shibl and colleague's metabolomic analysis of cocultures of diatoms and their bacterial consortia. In particular, I'll be reproducing figures 2a-c (PCAs) from their paper, and evaluating the reproducibility of figure 2d (a heatmap). "
   ]
  },
  {
   "cell_type": "markdown",
   "metadata": {},
   "source": [
    "First, we'll download the packages required for these analyses"
   ]
  },
  {
   "cell_type": "code",
   "execution_count": 1,
   "metadata": {},
   "outputs": [
    {
     "name": "stderr",
     "output_type": "stream",
     "text": [
      "Loading required package: tidyverse\n",
      "\n",
      "── \u001b[1mAttaching packages\u001b[22m ─────────────────────────────────────────────────────────────────────────────────────────────────────────────────────────────────────────────────────────────────────── tidyverse 1.3.1 ──\n",
      "\n",
      "\u001b[32m✔\u001b[39m \u001b[34mggplot2\u001b[39m 3.3.5     \u001b[32m✔\u001b[39m \u001b[34mpurrr  \u001b[39m 0.3.4\n",
      "\u001b[32m✔\u001b[39m \u001b[34mtibble \u001b[39m 3.1.6     \u001b[32m✔\u001b[39m \u001b[34mdplyr  \u001b[39m 1.0.7\n",
      "\u001b[32m✔\u001b[39m \u001b[34mtidyr  \u001b[39m 1.1.4     \u001b[32m✔\u001b[39m \u001b[34mstringr\u001b[39m 1.4.0\n",
      "\u001b[32m✔\u001b[39m \u001b[34mreadr  \u001b[39m 2.1.1     \u001b[32m✔\u001b[39m \u001b[34mforcats\u001b[39m 0.5.1\n",
      "\n",
      "── \u001b[1mConflicts\u001b[22m ────────────────────────────────────────────────────────────────────────────────────────────────────────────────────────────────────────────────────────────────────────── tidyverse_conflicts() ──\n",
      "\u001b[31m✖\u001b[39m \u001b[34mdplyr\u001b[39m::\u001b[32mfilter()\u001b[39m masks \u001b[34mstats\u001b[39m::filter()\n",
      "\u001b[31m✖\u001b[39m \u001b[34mdplyr\u001b[39m::\u001b[32mlag()\u001b[39m    masks \u001b[34mstats\u001b[39m::lag()\n",
      "\n",
      "Loading required package: pcaMethods\n",
      "\n",
      "Loading required package: Biobase\n",
      "\n",
      "Loading required package: BiocGenerics\n",
      "\n",
      "\n",
      "Attaching package: ‘BiocGenerics’\n",
      "\n",
      "\n",
      "The following objects are masked from ‘package:dplyr’:\n",
      "\n",
      "    combine, intersect, setdiff, union\n",
      "\n",
      "\n",
      "The following objects are masked from ‘package:stats’:\n",
      "\n",
      "    IQR, mad, sd, var, xtabs\n",
      "\n",
      "\n",
      "The following objects are masked from ‘package:base’:\n",
      "\n",
      "    anyDuplicated, append, as.data.frame, basename, cbind, colnames,\n",
      "    dirname, do.call, duplicated, eval, evalq, Filter, Find, get, grep,\n",
      "    grepl, intersect, is.unsorted, lapply, Map, mapply, match, mget,\n",
      "    order, paste, pmax, pmax.int, pmin, pmin.int, Position, rank,\n",
      "    rbind, Reduce, rownames, sapply, setdiff, sort, table, tapply,\n",
      "    union, unique, unsplit, which.max, which.min\n",
      "\n",
      "\n",
      "Welcome to Bioconductor\n",
      "\n",
      "    Vignettes contain introductory material; view with\n",
      "    'browseVignettes()'. To cite Bioconductor, see\n",
      "    'citation(\"Biobase\")', and for packages 'citation(\"pkgname\")'.\n",
      "\n",
      "\n",
      "\n",
      "Attaching package: ‘pcaMethods’\n",
      "\n",
      "\n",
      "The following object is masked from ‘package:stats’:\n",
      "\n",
      "    loadings\n",
      "\n",
      "\n",
      "Loading required package: rstatix\n",
      "\n",
      "\n",
      "Attaching package: ‘rstatix’\n",
      "\n",
      "\n",
      "The following object is masked from ‘package:stats’:\n",
      "\n",
      "    filter\n",
      "\n",
      "\n",
      "Loading required package: ComplexHeatmap\n",
      "\n",
      "Loading required package: grid\n",
      "\n",
      "========================================\n",
      "ComplexHeatmap version 2.11.1\n",
      "Bioconductor page: http://bioconductor.org/packages/ComplexHeatmap/\n",
      "Github page: https://github.com/jokergoo/ComplexHeatmap\n",
      "Documentation: http://jokergoo.github.io/ComplexHeatmap-reference\n",
      "\n",
      "If you use it in published research, please cite:\n",
      "Gu, Z. Complex heatmaps reveal patterns and correlations in multidimensional \n",
      "  genomic data. Bioinformatics 2016.\n",
      "\n",
      "The new InteractiveComplexHeatmap package can directly export static \n",
      "complex heatmaps into an interactive Shiny app with zero effort. Have a try!\n",
      "\n",
      "This message can be suppressed by:\n",
      "  suppressPackageStartupMessages(library(ComplexHeatmap))\n",
      "========================================\n",
      "\n",
      "\n"
     ]
    }
   ],
   "source": [
    "require(tidyverse)\n",
    "require(pcaMethods)\n",
    "require(rstatix)\n",
    "require(ComplexHeatmap)"
   ]
  },
  {
   "cell_type": "markdown",
   "metadata": {},
   "source": [
    "## Principle component analysis"
   ]
  },
  {
   "cell_type": "markdown",
   "metadata": {},
   "source": [
    "This is a script for replicating the PCA plots generated by Shibl et al to analyze their metabolomic data. I'll start by downloading the data I need and transforming it as necessary. These data have already undergone some manual manipulation, as discussed in our github README file. \n",
    "\n",
    "Here I am downloading the \"Dataset_S01\" file, which includes a list of mzRTs and their intensity in each sample. I log transform the mass spec intensity data, following Shibl et al. Next, I download the \"Dataset_S01_metadata\" file, which includes the metadata for those samples"
   ]
  },
  {
   "cell_type": "code",
   "execution_count": 2,
   "metadata": {},
   "outputs": [],
   "source": [
    "mtab_data <- \"../data/clean_data/metabolome/Dataset_S01_edit_3_R.csv\"\n",
    "d_mtab <- read.table(mtab_data, header = FALSE, sep = \",\", stringsAsFactors = FALSE)\n",
    "\n",
    "#log10 transform data, as per methods in Shibl et al. SI\n",
    "d_mtab_numeric <- d_mtab[c(1:72), c(2:1238)]\n",
    "d_mtab_numeric_log <- mutate(log10(d_mtab_numeric + 1))\n",
    "\n",
    "meta_mtab_data <- \"../data/clean_data/metabolome/Dataset_S01_metadata.csv\"\n",
    "d_meta <- read.table(meta_mtab_data, header = TRUE, sep = \",\", stringsAsFactors = FALSE)\n",
    "d_meta$Time <- as.factor(d_meta$Time)\n",
    "\n",
    "#Check your data, if you want to\n",
    "#head(d_mtab)\n",
    "#head(d_mtab_numeric)\n",
    "#head(d_mtab_numeric_log)\n",
    "#head(d_mtab_log)\n",
    "#head(d_meta)"
   ]
  },
  {
   "cell_type": "markdown",
   "metadata": {},
   "source": [
    "Shibl et al. use MetaboAnalyst in order to generate their PCA plots. However, MetaboAnalyst installs weren't working for me, despite trying both locally and on Poseidon, and across a range of versions of R. Therefore I use pcaMethod, one of the package dependencies for MetaboAnalyst, in order to generate my PCAs. The first uses all samples, comparing reseeded vs. axenic samples - this attempts to replicate figure 2a. Shibl et al. mention scaling their data, but don't mention centering it and don't name a PCA method - the parameters I've chosen here are a best guess. "
   ]
  },
  {
   "cell_type": "code",
   "execution_count": 3,
   "metadata": {},
   "outputs": [
    {
     "data": {
      "text/html": [
       "<table class=\"dataframe\">\n",
       "<caption>A data.frame: 6 × 6</caption>\n",
       "<thead>\n",
       "\t<tr><th></th><th scope=col>Row.names</th><th scope=col>Sample</th><th scope=col>Type</th><th scope=col>Time</th><th scope=col>PC1</th><th scope=col>PC2</th></tr>\n",
       "\t<tr><th></th><th scope=col>&lt;I&lt;chr&gt;&gt;</th><th scope=col>&lt;chr&gt;</th><th scope=col>&lt;chr&gt;</th><th scope=col>&lt;fct&gt;</th><th scope=col>&lt;dbl&gt;</th><th scope=col>&lt;dbl&gt;</th></tr>\n",
       "</thead>\n",
       "<tbody>\n",
       "\t<tr><th scope=row>1</th><td>1</td><td>R1a_0.5h</td><td>Reseeded</td><td>0.5</td><td>-2.420624</td><td>-0.6477391</td></tr>\n",
       "\t<tr><th scope=row>2</th><td>2</td><td>R1b_0.5h</td><td>Reseeded</td><td>0.5</td><td>-2.473029</td><td>-0.5980850</td></tr>\n",
       "\t<tr><th scope=row>3</th><td>3</td><td>R1c_0.5h</td><td>Reseeded</td><td>0.5</td><td>-2.330494</td><td>-0.8386456</td></tr>\n",
       "\t<tr><th scope=row>4</th><td>4</td><td>R2a_0.5h</td><td>Reseeded</td><td>0.5</td><td>-1.679593</td><td> 0.9910081</td></tr>\n",
       "\t<tr><th scope=row>5</th><td>5</td><td>R2b_0.5h</td><td>Reseeded</td><td>0.5</td><td>-1.747809</td><td> 0.7436359</td></tr>\n",
       "\t<tr><th scope=row>6</th><td>6</td><td>R2c_0.5h</td><td>Reseeded</td><td>0.5</td><td>-1.884214</td><td> 0.8321796</td></tr>\n",
       "</tbody>\n",
       "</table>\n"
      ],
      "text/latex": [
       "A data.frame: 6 × 6\n",
       "\\begin{tabular}{r|llllll}\n",
       "  & Row.names & Sample & Type & Time & PC1 & PC2\\\\\n",
       "  & <I<chr>> & <chr> & <chr> & <fct> & <dbl> & <dbl>\\\\\n",
       "\\hline\n",
       "\t1 & 1 & R1a\\_0.5h & Reseeded & 0.5 & -2.420624 & -0.6477391\\\\\n",
       "\t2 & 2 & R1b\\_0.5h & Reseeded & 0.5 & -2.473029 & -0.5980850\\\\\n",
       "\t3 & 3 & R1c\\_0.5h & Reseeded & 0.5 & -2.330494 & -0.8386456\\\\\n",
       "\t4 & 4 & R2a\\_0.5h & Reseeded & 0.5 & -1.679593 &  0.9910081\\\\\n",
       "\t5 & 5 & R2b\\_0.5h & Reseeded & 0.5 & -1.747809 &  0.7436359\\\\\n",
       "\t6 & 6 & R2c\\_0.5h & Reseeded & 0.5 & -1.884214 &  0.8321796\\\\\n",
       "\\end{tabular}\n"
      ],
      "text/markdown": [
       "\n",
       "A data.frame: 6 × 6\n",
       "\n",
       "| <!--/--> | Row.names &lt;I&lt;chr&gt;&gt; | Sample &lt;chr&gt; | Type &lt;chr&gt; | Time &lt;fct&gt; | PC1 &lt;dbl&gt; | PC2 &lt;dbl&gt; |\n",
       "|---|---|---|---|---|---|---|\n",
       "| 1 | 1 | R1a_0.5h | Reseeded | 0.5 | -2.420624 | -0.6477391 |\n",
       "| 2 | 2 | R1b_0.5h | Reseeded | 0.5 | -2.473029 | -0.5980850 |\n",
       "| 3 | 3 | R1c_0.5h | Reseeded | 0.5 | -2.330494 | -0.8386456 |\n",
       "| 4 | 4 | R2a_0.5h | Reseeded | 0.5 | -1.679593 |  0.9910081 |\n",
       "| 5 | 5 | R2b_0.5h | Reseeded | 0.5 | -1.747809 |  0.7436359 |\n",
       "| 6 | 6 | R2c_0.5h | Reseeded | 0.5 | -1.884214 |  0.8321796 |\n",
       "\n"
      ],
      "text/plain": [
       "  Row.names Sample   Type     Time PC1       PC2       \n",
       "1 1         R1a_0.5h Reseeded 0.5  -2.420624 -0.6477391\n",
       "2 2         R1b_0.5h Reseeded 0.5  -2.473029 -0.5980850\n",
       "3 3         R1c_0.5h Reseeded 0.5  -2.330494 -0.8386456\n",
       "4 4         R2a_0.5h Reseeded 0.5  -1.679593  0.9910081\n",
       "5 5         R2b_0.5h Reseeded 0.5  -1.747809  0.7436359\n",
       "6 6         R2c_0.5h Reseeded 0.5  -1.884214  0.8321796"
      ]
     },
     "metadata": {},
     "output_type": "display_data"
    },
    {
     "data": {
      "image/png": "[encoded data removed]",
      "text/plain": [
       "plot without title"
      ]
     },
     "metadata": {
      "image/png": {
       "height": 420,
       "width": 420
      }
     },
     "output_type": "display_data"
    }
   ],
   "source": [
    "pc <- pca(d_mtab_numeric_log, center = TRUE, scale = \"vector\", method=\"svd\")\n",
    "mtab.df <- merge(d_meta, scores(pc), by=0, sort=FALSE)\n",
    "head(mtab.df)\n",
    "ggplot(mtab.df, aes(PC1, PC2, color=Type)) + geom_point(size = 2.5) + stat_ellipse() + theme_bw()"
   ]
  },
  {
   "cell_type": "markdown",
   "metadata": {},
   "source": [
    "I'll also export this data into a more useful format"
   ]
  },
  {
   "cell_type": "code",
   "execution_count": 5,
   "metadata": {},
   "outputs": [
    {
     "data": {
      "text/html": [
       "<strong>png:</strong> 2"
      ],
      "text/latex": [
       "\\textbf{png:} 2"
      ],
      "text/markdown": [
       "**png:** 2"
      ],
      "text/plain": [
       "png \n",
       "  2 "
      ]
     },
     "metadata": {},
     "output_type": "display_data"
    }
   ],
   "source": [
    "pdf(file = \"../output/metabolomics/PCA_axenic_v_reseeded.pdf\")\n",
    "ggplot(mtab.df, aes(PC1, PC2, color=Type)) + geom_point(size = 2.5) + stat_ellipse() + theme_bw()\n",
    "dev.off()"
   ]
  },
  {
   "cell_type": "markdown",
   "metadata": {},
   "source": [
    "Next, I'll split the data (both LCMS data and metadata) by reseeded and axenic samples, to generate figures 2b and 2c. Ultimately my data splitting was via a pretty low tech solution, totally failed to get tidyverse-based approaches to work"
   ]
  },
  {
   "cell_type": "code",
   "execution_count": 6,
   "metadata": {},
   "outputs": [
    {
     "data": {
      "text/html": [
       "<style>\n",
       ".list-inline {list-style: none; margin:0; padding: 0}\n",
       ".list-inline>li {display: inline-block}\n",
       ".list-inline>li:not(:last-child)::after {content: \"\\00b7\"; padding: 0 .5ex}\n",
       "</style>\n",
       "<ol class=list-inline><li>72</li><li>1237</li></ol>\n"
      ],
      "text/latex": [
       "\\begin{enumerate*}\n",
       "\\item 72\n",
       "\\item 1237\n",
       "\\end{enumerate*}\n"
      ],
      "text/markdown": [
       "1. 72\n",
       "2. 1237\n",
       "\n",
       "\n"
      ],
      "text/plain": [
       "[1]   72 1237"
      ]
     },
     "metadata": {},
     "output_type": "display_data"
    },
    {
     "data": {
      "text/html": [
       "<style>\n",
       ".list-inline {list-style: none; margin:0; padding: 0}\n",
       ".list-inline>li {display: inline-block}\n",
       ".list-inline>li:not(:last-child)::after {content: \"\\00b7\"; padding: 0 .5ex}\n",
       "</style>\n",
       "<ol class=list-inline><li>36</li><li>1237</li></ol>\n"
      ],
      "text/latex": [
       "\\begin{enumerate*}\n",
       "\\item 36\n",
       "\\item 1237\n",
       "\\end{enumerate*}\n"
      ],
      "text/markdown": [
       "1. 36\n",
       "2. 1237\n",
       "\n",
       "\n"
      ],
      "text/plain": [
       "[1]   36 1237"
      ]
     },
     "metadata": {},
     "output_type": "display_data"
    },
    {
     "data": {
      "text/html": [
       "<style>\n",
       ".list-inline {list-style: none; margin:0; padding: 0}\n",
       ".list-inline>li {display: inline-block}\n",
       ".list-inline>li:not(:last-child)::after {content: \"\\00b7\"; padding: 0 .5ex}\n",
       "</style>\n",
       "<ol class=list-inline><li>36</li><li>1237</li></ol>\n"
      ],
      "text/latex": [
       "\\begin{enumerate*}\n",
       "\\item 36\n",
       "\\item 1237\n",
       "\\end{enumerate*}\n"
      ],
      "text/markdown": [
       "1. 36\n",
       "2. 1237\n",
       "\n",
       "\n"
      ],
      "text/plain": [
       "[1]   36 1237"
      ]
     },
     "metadata": {},
     "output_type": "display_data"
    }
   ],
   "source": [
    "dim(d_mtab_numeric_log)\n",
    "d_mtab_reseeded <- d_mtab_numeric_log[c(1:36), c(1:1237)]\n",
    "dim(d_mtab_reseeded)\n",
    "#view(d_mtab_reseeded)\n",
    "\n",
    "d_mtab_axenic <- d_mtab_numeric_log[c(37:72), c(1:1237)]\n",
    "dim(d_mtab_axenic)\n",
    "#view(d_mtab_axenic)"
   ]
  },
  {
   "cell_type": "code",
   "execution_count": 7,
   "metadata": {},
   "outputs": [
    {
     "data": {
      "text/html": [
       "<style>\n",
       ".list-inline {list-style: none; margin:0; padding: 0}\n",
       ".list-inline>li {display: inline-block}\n",
       ".list-inline>li:not(:last-child)::after {content: \"\\00b7\"; padding: 0 .5ex}\n",
       "</style>\n",
       "<ol class=list-inline><li>72</li><li>3</li></ol>\n"
      ],
      "text/latex": [
       "\\begin{enumerate*}\n",
       "\\item 72\n",
       "\\item 3\n",
       "\\end{enumerate*}\n"
      ],
      "text/markdown": [
       "1. 72\n",
       "2. 3\n",
       "\n",
       "\n"
      ],
      "text/plain": [
       "[1] 72  3"
      ]
     },
     "metadata": {},
     "output_type": "display_data"
    },
    {
     "data": {
      "text/html": [
       "<style>\n",
       ".list-inline {list-style: none; margin:0; padding: 0}\n",
       ".list-inline>li {display: inline-block}\n",
       ".list-inline>li:not(:last-child)::after {content: \"\\00b7\"; padding: 0 .5ex}\n",
       "</style>\n",
       "<ol class=list-inline><li>36</li><li>3</li></ol>\n"
      ],
      "text/latex": [
       "\\begin{enumerate*}\n",
       "\\item 36\n",
       "\\item 3\n",
       "\\end{enumerate*}\n"
      ],
      "text/markdown": [
       "1. 36\n",
       "2. 3\n",
       "\n",
       "\n"
      ],
      "text/plain": [
       "[1] 36  3"
      ]
     },
     "metadata": {},
     "output_type": "display_data"
    },
    {
     "data": {
      "text/html": [
       "<style>\n",
       ".list-inline {list-style: none; margin:0; padding: 0}\n",
       ".list-inline>li {display: inline-block}\n",
       ".list-inline>li:not(:last-child)::after {content: \"\\00b7\"; padding: 0 .5ex}\n",
       "</style>\n",
       "<ol class=list-inline><li>36</li><li>3</li></ol>\n"
      ],
      "text/latex": [
       "\\begin{enumerate*}\n",
       "\\item 36\n",
       "\\item 3\n",
       "\\end{enumerate*}\n"
      ],
      "text/markdown": [
       "1. 36\n",
       "2. 3\n",
       "\n",
       "\n"
      ],
      "text/plain": [
       "[1] 36  3"
      ]
     },
     "metadata": {},
     "output_type": "display_data"
    }
   ],
   "source": [
    "dim(d_meta)\n",
    "d_meta_reseeded <- d_meta[c(1:36), c(1:3)]\n",
    "dim(d_meta_reseeded)\n",
    "#view(d_meta_reseeded)\n",
    "\n",
    "d_meta_axenic <- d_meta[c(37:72), c(1:3)]\n",
    "dim(d_meta_axenic)\n",
    "#view(d_meta_axenic)"
   ]
  },
  {
   "cell_type": "markdown",
   "metadata": {},
   "source": [
    "Now make the PCA for each subset, colored by time"
   ]
  },
  {
   "cell_type": "code",
   "execution_count": 8,
   "metadata": {},
   "outputs": [
    {
     "name": "stderr",
     "output_type": "stream",
     "text": [
      "Warning message in prep(Matrix, scale = scale, center = center, simple = FALSE, :\n",
      "“Variance is below eps for 4 variables. Not scaling them.”\n"
     ]
    },
    {
     "data": {
      "text/html": [
       "<table class=\"dataframe\">\n",
       "<caption>A data.frame: 6 × 6</caption>\n",
       "<thead>\n",
       "\t<tr><th></th><th scope=col>Row.names</th><th scope=col>Sample</th><th scope=col>Type</th><th scope=col>Time</th><th scope=col>PC1</th><th scope=col>PC2</th></tr>\n",
       "\t<tr><th></th><th scope=col>&lt;I&lt;chr&gt;&gt;</th><th scope=col>&lt;chr&gt;</th><th scope=col>&lt;chr&gt;</th><th scope=col>&lt;fct&gt;</th><th scope=col>&lt;dbl&gt;</th><th scope=col>&lt;dbl&gt;</th></tr>\n",
       "</thead>\n",
       "<tbody>\n",
       "\t<tr><th scope=row>1</th><td>1</td><td>R1a_0.5h</td><td>Reseeded</td><td>0.5</td><td>-2.67566046</td><td>-1.0368665</td></tr>\n",
       "\t<tr><th scope=row>2</th><td>2</td><td>R1b_0.5h</td><td>Reseeded</td><td>0.5</td><td>-2.61823811</td><td>-1.1246122</td></tr>\n",
       "\t<tr><th scope=row>3</th><td>3</td><td>R1c_0.5h</td><td>Reseeded</td><td>0.5</td><td>-2.84890498</td><td>-0.9907118</td></tr>\n",
       "\t<tr><th scope=row>4</th><td>4</td><td>R2a_0.5h</td><td>Reseeded</td><td>0.5</td><td> 0.27103590</td><td>-3.9108934</td></tr>\n",
       "\t<tr><th scope=row>5</th><td>5</td><td>R2b_0.5h</td><td>Reseeded</td><td>0.5</td><td>-0.10862434</td><td>-3.6580675</td></tr>\n",
       "\t<tr><th scope=row>6</th><td>6</td><td>R2c_0.5h</td><td>Reseeded</td><td>0.5</td><td> 0.01536551</td><td>-3.6276199</td></tr>\n",
       "</tbody>\n",
       "</table>\n"
      ],
      "text/latex": [
       "A data.frame: 6 × 6\n",
       "\\begin{tabular}{r|llllll}\n",
       "  & Row.names & Sample & Type & Time & PC1 & PC2\\\\\n",
       "  & <I<chr>> & <chr> & <chr> & <fct> & <dbl> & <dbl>\\\\\n",
       "\\hline\n",
       "\t1 & 1 & R1a\\_0.5h & Reseeded & 0.5 & -2.67566046 & -1.0368665\\\\\n",
       "\t2 & 2 & R1b\\_0.5h & Reseeded & 0.5 & -2.61823811 & -1.1246122\\\\\n",
       "\t3 & 3 & R1c\\_0.5h & Reseeded & 0.5 & -2.84890498 & -0.9907118\\\\\n",
       "\t4 & 4 & R2a\\_0.5h & Reseeded & 0.5 &  0.27103590 & -3.9108934\\\\\n",
       "\t5 & 5 & R2b\\_0.5h & Reseeded & 0.5 & -0.10862434 & -3.6580675\\\\\n",
       "\t6 & 6 & R2c\\_0.5h & Reseeded & 0.5 &  0.01536551 & -3.6276199\\\\\n",
       "\\end{tabular}\n"
      ],
      "text/markdown": [
       "\n",
       "A data.frame: 6 × 6\n",
       "\n",
       "| <!--/--> | Row.names &lt;I&lt;chr&gt;&gt; | Sample &lt;chr&gt; | Type &lt;chr&gt; | Time &lt;fct&gt; | PC1 &lt;dbl&gt; | PC2 &lt;dbl&gt; |\n",
       "|---|---|---|---|---|---|---|\n",
       "| 1 | 1 | R1a_0.5h | Reseeded | 0.5 | -2.67566046 | -1.0368665 |\n",
       "| 2 | 2 | R1b_0.5h | Reseeded | 0.5 | -2.61823811 | -1.1246122 |\n",
       "| 3 | 3 | R1c_0.5h | Reseeded | 0.5 | -2.84890498 | -0.9907118 |\n",
       "| 4 | 4 | R2a_0.5h | Reseeded | 0.5 |  0.27103590 | -3.9108934 |\n",
       "| 5 | 5 | R2b_0.5h | Reseeded | 0.5 | -0.10862434 | -3.6580675 |\n",
       "| 6 | 6 | R2c_0.5h | Reseeded | 0.5 |  0.01536551 | -3.6276199 |\n",
       "\n"
      ],
      "text/plain": [
       "  Row.names Sample   Type     Time PC1         PC2       \n",
       "1 1         R1a_0.5h Reseeded 0.5  -2.67566046 -1.0368665\n",
       "2 2         R1b_0.5h Reseeded 0.5  -2.61823811 -1.1246122\n",
       "3 3         R1c_0.5h Reseeded 0.5  -2.84890498 -0.9907118\n",
       "4 4         R2a_0.5h Reseeded 0.5   0.27103590 -3.9108934\n",
       "5 5         R2b_0.5h Reseeded 0.5  -0.10862434 -3.6580675\n",
       "6 6         R2c_0.5h Reseeded 0.5   0.01536551 -3.6276199"
      ]
     },
     "metadata": {},
     "output_type": "display_data"
    },
    {
     "data": {
      "image/png": "[encoded data removed]",
      "text/plain": [
       "plot without title"
      ]
     },
     "metadata": {
      "image/png": {
       "height": 420,
       "width": 420
      }
     },
     "output_type": "display_data"
    }
   ],
   "source": [
    "#PCA for reseeded samples\n",
    "\n",
    "pc.reseeded <- pca(d_mtab_reseeded, center=TRUE, scale=\"vector\")\n",
    "reseeded.mtab.df <- merge(d_meta_reseeded, scores(pc.reseeded), by=0, sort=FALSE)\n",
    "head(reseeded.mtab.df)\n",
    "ggplot(reseeded.mtab.df, aes(PC1, PC2, color=Time)) + geom_point(size = 2.5) + stat_ellipse() + theme_bw()"
   ]
  },
  {
   "cell_type": "code",
   "execution_count": 9,
   "metadata": {},
   "outputs": [
    {
     "name": "stderr",
     "output_type": "stream",
     "text": [
      "Warning message in prep(Matrix, scale = scale, center = center, simple = FALSE, :\n",
      "“Variance is below eps for 41 variables. Not scaling them.”\n"
     ]
    },
    {
     "data": {
      "text/html": [
       "<table class=\"dataframe\">\n",
       "<caption>A data.frame: 6 × 6</caption>\n",
       "<thead>\n",
       "\t<tr><th></th><th scope=col>Row.names</th><th scope=col>Sample</th><th scope=col>Type</th><th scope=col>Time</th><th scope=col>PC1</th><th scope=col>PC2</th></tr>\n",
       "\t<tr><th></th><th scope=col>&lt;I&lt;chr&gt;&gt;</th><th scope=col>&lt;chr&gt;</th><th scope=col>&lt;chr&gt;</th><th scope=col>&lt;fct&gt;</th><th scope=col>&lt;dbl&gt;</th><th scope=col>&lt;dbl&gt;</th></tr>\n",
       "</thead>\n",
       "<tbody>\n",
       "\t<tr><th scope=row>1</th><td>37</td><td>A1a_0.5h</td><td>Axenic</td><td>0.5</td><td>-1.1589384</td><td>-2.972519</td></tr>\n",
       "\t<tr><th scope=row>2</th><td>38</td><td>A1b_0.5h</td><td>Axenic</td><td>0.5</td><td>-0.9703185</td><td>-2.846897</td></tr>\n",
       "\t<tr><th scope=row>3</th><td>39</td><td>A1c_0.5h</td><td>Axenic</td><td>0.5</td><td>-0.6990391</td><td>-2.816011</td></tr>\n",
       "\t<tr><th scope=row>4</th><td>40</td><td>A2a_0.5h</td><td>Axenic</td><td>0.5</td><td> 1.6997107</td><td>-1.984051</td></tr>\n",
       "\t<tr><th scope=row>5</th><td>41</td><td>A2b_0.5h</td><td>Axenic</td><td>0.5</td><td> 1.8681161</td><td>-1.975482</td></tr>\n",
       "\t<tr><th scope=row>6</th><td>42</td><td>A2c_0.5h</td><td>Axenic</td><td>0.5</td><td> 1.8796684</td><td>-2.100538</td></tr>\n",
       "</tbody>\n",
       "</table>\n"
      ],
      "text/latex": [
       "A data.frame: 6 × 6\n",
       "\\begin{tabular}{r|llllll}\n",
       "  & Row.names & Sample & Type & Time & PC1 & PC2\\\\\n",
       "  & <I<chr>> & <chr> & <chr> & <fct> & <dbl> & <dbl>\\\\\n",
       "\\hline\n",
       "\t1 & 37 & A1a\\_0.5h & Axenic & 0.5 & -1.1589384 & -2.972519\\\\\n",
       "\t2 & 38 & A1b\\_0.5h & Axenic & 0.5 & -0.9703185 & -2.846897\\\\\n",
       "\t3 & 39 & A1c\\_0.5h & Axenic & 0.5 & -0.6990391 & -2.816011\\\\\n",
       "\t4 & 40 & A2a\\_0.5h & Axenic & 0.5 &  1.6997107 & -1.984051\\\\\n",
       "\t5 & 41 & A2b\\_0.5h & Axenic & 0.5 &  1.8681161 & -1.975482\\\\\n",
       "\t6 & 42 & A2c\\_0.5h & Axenic & 0.5 &  1.8796684 & -2.100538\\\\\n",
       "\\end{tabular}\n"
      ],
      "text/markdown": [
       "\n",
       "A data.frame: 6 × 6\n",
       "\n",
       "| <!--/--> | Row.names &lt;I&lt;chr&gt;&gt; | Sample &lt;chr&gt; | Type &lt;chr&gt; | Time &lt;fct&gt; | PC1 &lt;dbl&gt; | PC2 &lt;dbl&gt; |\n",
       "|---|---|---|---|---|---|---|\n",
       "| 1 | 37 | A1a_0.5h | Axenic | 0.5 | -1.1589384 | -2.972519 |\n",
       "| 2 | 38 | A1b_0.5h | Axenic | 0.5 | -0.9703185 | -2.846897 |\n",
       "| 3 | 39 | A1c_0.5h | Axenic | 0.5 | -0.6990391 | -2.816011 |\n",
       "| 4 | 40 | A2a_0.5h | Axenic | 0.5 |  1.6997107 | -1.984051 |\n",
       "| 5 | 41 | A2b_0.5h | Axenic | 0.5 |  1.8681161 | -1.975482 |\n",
       "| 6 | 42 | A2c_0.5h | Axenic | 0.5 |  1.8796684 | -2.100538 |\n",
       "\n"
      ],
      "text/plain": [
       "  Row.names Sample   Type   Time PC1        PC2      \n",
       "1 37        A1a_0.5h Axenic 0.5  -1.1589384 -2.972519\n",
       "2 38        A1b_0.5h Axenic 0.5  -0.9703185 -2.846897\n",
       "3 39        A1c_0.5h Axenic 0.5  -0.6990391 -2.816011\n",
       "4 40        A2a_0.5h Axenic 0.5   1.6997107 -1.984051\n",
       "5 41        A2b_0.5h Axenic 0.5   1.8681161 -1.975482\n",
       "6 42        A2c_0.5h Axenic 0.5   1.8796684 -2.100538"
      ]
     },
     "metadata": {},
     "output_type": "display_data"
    },
    {
     "data": {
      "image/png": "[encoded data removed]",
      "text/plain": [
       "plot without title"
      ]
     },
     "metadata": {
      "image/png": {
       "height": 420,
       "width": 420
      }
     },
     "output_type": "display_data"
    }
   ],
   "source": [
    "#PCA for axenic samples\n",
    "\n",
    "pc.axenic <- pca(d_mtab_axenic, center=TRUE, scale=\"vector\")\n",
    "axenic.mtab.df <- merge(d_meta_axenic, scores(pc.axenic), by=0, sort=FALSE)\n",
    "head(axenic.mtab.df)\n",
    "ggplot(axenic.mtab.df, aes(PC1, PC2, color=Time)) + geom_point(size = 2.5) + stat_ellipse() + theme_bw()"
   ]
  },
  {
   "cell_type": "markdown",
   "metadata": {},
   "source": [
    "And again, put files to output"
   ]
  },
  {
   "cell_type": "code",
   "execution_count": 12,
   "metadata": {},
   "outputs": [
    {
     "data": {
      "text/html": [
       "<strong>png:</strong> 2"
      ],
      "text/latex": [
       "\\textbf{png:} 2"
      ],
      "text/markdown": [
       "**png:** 2"
      ],
      "text/plain": [
       "png \n",
       "  2 "
      ]
     },
     "metadata": {},
     "output_type": "display_data"
    }
   ],
   "source": [
    "pdf(file = \"../output/metabolomics/PCA_reseeded_by_time.pdf\")\n",
    "ggplot(reseeded.mtab.df, aes(PC1, PC2, color=Time)) + geom_point(size = 2.5) + stat_ellipse() + theme_bw()\n",
    "dev.off()"
   ]
  },
  {
   "cell_type": "code",
   "execution_count": 13,
   "metadata": {},
   "outputs": [
    {
     "data": {
      "text/html": [
       "<strong>png:</strong> 2"
      ],
      "text/latex": [
       "\\textbf{png:} 2"
      ],
      "text/markdown": [
       "**png:** 2"
      ],
      "text/plain": [
       "png \n",
       "  2 "
      ]
     },
     "metadata": {},
     "output_type": "display_data"
    }
   ],
   "source": [
    "pdf(file = \"../output/metabolomics/PCA_axenic_by_time.pdf\")\n",
    "ggplot(axenic.mtab.df, aes(PC1, PC2, color=Time)) + geom_point(size = 2.5) + stat_ellipse() + theme_bw()\n",
    "dev.off()"
   ]
  },
  {
   "cell_type": "markdown",
   "metadata": {},
   "source": [
    "### Mahalanobis distances\n",
    "\n",
    "Finally, Mahalanobis distances were calculated based on the axenic and reseeded PCA plots. Very little direction was given here by the authors, so I went with something that I could get to work. \n",
    "\n",
    "For the first set (axenic samples), I also check and make sure having metadata in my dataframe doesn't mess with the Mahalanobis distance calculation - it looks OK to me"
   ]
  },
  {
   "cell_type": "code",
   "execution_count": 14,
   "metadata": {},
   "outputs": [
    {
     "data": {
      "text/html": [
       "<table class=\"dataframe\">\n",
       "<caption>A data.frame: 6 × 4</caption>\n",
       "<thead>\n",
       "\t<tr><th></th><th scope=col>PC1</th><th scope=col>PC2</th><th scope=col>mahal.dist</th><th scope=col>is.outlier</th></tr>\n",
       "\t<tr><th></th><th scope=col>&lt;dbl&gt;</th><th scope=col>&lt;dbl&gt;</th><th scope=col>&lt;dbl&gt;</th><th scope=col>&lt;lgl&gt;</th></tr>\n",
       "</thead>\n",
       "<tbody>\n",
       "\t<tr><th scope=row>1</th><td>-1.1589384</td><td>-2.972519</td><td>2.838</td><td>FALSE</td></tr>\n",
       "\t<tr><th scope=row>2</th><td>-0.9703185</td><td>-2.846897</td><td>2.566</td><td>FALSE</td></tr>\n",
       "\t<tr><th scope=row>3</th><td>-0.6990391</td><td>-2.816011</td><td>2.455</td><td>FALSE</td></tr>\n",
       "\t<tr><th scope=row>4</th><td> 1.6997107</td><td>-1.984051</td><td>1.558</td><td>FALSE</td></tr>\n",
       "\t<tr><th scope=row>5</th><td> 1.8681161</td><td>-1.975482</td><td>1.624</td><td>FALSE</td></tr>\n",
       "\t<tr><th scope=row>6</th><td> 1.8796684</td><td>-2.100538</td><td>1.784</td><td>FALSE</td></tr>\n",
       "</tbody>\n",
       "</table>\n"
      ],
      "text/latex": [
       "A data.frame: 6 × 4\n",
       "\\begin{tabular}{r|llll}\n",
       "  & PC1 & PC2 & mahal.dist & is.outlier\\\\\n",
       "  & <dbl> & <dbl> & <dbl> & <lgl>\\\\\n",
       "\\hline\n",
       "\t1 & -1.1589384 & -2.972519 & 2.838 & FALSE\\\\\n",
       "\t2 & -0.9703185 & -2.846897 & 2.566 & FALSE\\\\\n",
       "\t3 & -0.6990391 & -2.816011 & 2.455 & FALSE\\\\\n",
       "\t4 &  1.6997107 & -1.984051 & 1.558 & FALSE\\\\\n",
       "\t5 &  1.8681161 & -1.975482 & 1.624 & FALSE\\\\\n",
       "\t6 &  1.8796684 & -2.100538 & 1.784 & FALSE\\\\\n",
       "\\end{tabular}\n"
      ],
      "text/markdown": [
       "\n",
       "A data.frame: 6 × 4\n",
       "\n",
       "| <!--/--> | PC1 &lt;dbl&gt; | PC2 &lt;dbl&gt; | mahal.dist &lt;dbl&gt; | is.outlier &lt;lgl&gt; |\n",
       "|---|---|---|---|---|\n",
       "| 1 | -1.1589384 | -2.972519 | 2.838 | FALSE |\n",
       "| 2 | -0.9703185 | -2.846897 | 2.566 | FALSE |\n",
       "| 3 | -0.6990391 | -2.816011 | 2.455 | FALSE |\n",
       "| 4 |  1.6997107 | -1.984051 | 1.558 | FALSE |\n",
       "| 5 |  1.8681161 | -1.975482 | 1.624 | FALSE |\n",
       "| 6 |  1.8796684 | -2.100538 | 1.784 | FALSE |\n",
       "\n"
      ],
      "text/plain": [
       "  PC1        PC2       mahal.dist is.outlier\n",
       "1 -1.1589384 -2.972519 2.838      FALSE     \n",
       "2 -0.9703185 -2.846897 2.566      FALSE     \n",
       "3 -0.6990391 -2.816011 2.455      FALSE     \n",
       "4  1.6997107 -1.984051 1.558      FALSE     \n",
       "5  1.8681161 -1.975482 1.624      FALSE     \n",
       "6  1.8796684 -2.100538 1.784      FALSE     "
      ]
     },
     "metadata": {},
     "output_type": "display_data"
    },
    {
     "data": {
      "text/html": [
       "<table class=\"dataframe\">\n",
       "<caption>A data.frame: 6 × 4</caption>\n",
       "<thead>\n",
       "\t<tr><th></th><th scope=col>PC1</th><th scope=col>PC2</th><th scope=col>mahal.dist</th><th scope=col>is.outlier</th></tr>\n",
       "\t<tr><th></th><th scope=col>&lt;dbl&gt;</th><th scope=col>&lt;dbl&gt;</th><th scope=col>&lt;dbl&gt;</th><th scope=col>&lt;lgl&gt;</th></tr>\n",
       "</thead>\n",
       "<tbody>\n",
       "\t<tr><th scope=row>1</th><td>-1.1589384</td><td>-2.972519</td><td>2.838</td><td>FALSE</td></tr>\n",
       "\t<tr><th scope=row>2</th><td>-0.9703185</td><td>-2.846897</td><td>2.566</td><td>FALSE</td></tr>\n",
       "\t<tr><th scope=row>3</th><td>-0.6990391</td><td>-2.816011</td><td>2.455</td><td>FALSE</td></tr>\n",
       "\t<tr><th scope=row>4</th><td> 1.6997107</td><td>-1.984051</td><td>1.558</td><td>FALSE</td></tr>\n",
       "\t<tr><th scope=row>5</th><td> 1.8681161</td><td>-1.975482</td><td>1.624</td><td>FALSE</td></tr>\n",
       "\t<tr><th scope=row>6</th><td> 1.8796684</td><td>-2.100538</td><td>1.784</td><td>FALSE</td></tr>\n",
       "</tbody>\n",
       "</table>\n"
      ],
      "text/latex": [
       "A data.frame: 6 × 4\n",
       "\\begin{tabular}{r|llll}\n",
       "  & PC1 & PC2 & mahal.dist & is.outlier\\\\\n",
       "  & <dbl> & <dbl> & <dbl> & <lgl>\\\\\n",
       "\\hline\n",
       "\t1 & -1.1589384 & -2.972519 & 2.838 & FALSE\\\\\n",
       "\t2 & -0.9703185 & -2.846897 & 2.566 & FALSE\\\\\n",
       "\t3 & -0.6990391 & -2.816011 & 2.455 & FALSE\\\\\n",
       "\t4 &  1.6997107 & -1.984051 & 1.558 & FALSE\\\\\n",
       "\t5 &  1.8681161 & -1.975482 & 1.624 & FALSE\\\\\n",
       "\t6 &  1.8796684 & -2.100538 & 1.784 & FALSE\\\\\n",
       "\\end{tabular}\n"
      ],
      "text/markdown": [
       "\n",
       "A data.frame: 6 × 4\n",
       "\n",
       "| <!--/--> | PC1 &lt;dbl&gt; | PC2 &lt;dbl&gt; | mahal.dist &lt;dbl&gt; | is.outlier &lt;lgl&gt; |\n",
       "|---|---|---|---|---|\n",
       "| 1 | -1.1589384 | -2.972519 | 2.838 | FALSE |\n",
       "| 2 | -0.9703185 | -2.846897 | 2.566 | FALSE |\n",
       "| 3 | -0.6990391 | -2.816011 | 2.455 | FALSE |\n",
       "| 4 |  1.6997107 | -1.984051 | 1.558 | FALSE |\n",
       "| 5 |  1.8681161 | -1.975482 | 1.624 | FALSE |\n",
       "| 6 |  1.8796684 | -2.100538 | 1.784 | FALSE |\n",
       "\n"
      ],
      "text/plain": [
       "  PC1        PC2       mahal.dist is.outlier\n",
       "1 -1.1589384 -2.972519 2.838      FALSE     \n",
       "2 -0.9703185 -2.846897 2.566      FALSE     \n",
       "3 -0.6990391 -2.816011 2.455      FALSE     \n",
       "4  1.6997107 -1.984051 1.558      FALSE     \n",
       "5  1.8681161 -1.975482 1.624      FALSE     \n",
       "6  1.8796684 -2.100538 1.784      FALSE     "
      ]
     },
     "metadata": {},
     "output_type": "display_data"
    },
    {
     "data": {
      "text/html": [
       "1.9445"
      ],
      "text/latex": [
       "1.9445"
      ],
      "text/markdown": [
       "1.9445"
      ],
      "text/plain": [
       "[1] 1.9445"
      ]
     },
     "metadata": {},
     "output_type": "display_data"
    },
    {
     "data": {
      "text/html": [
       "1.9445"
      ],
      "text/latex": [
       "1.9445"
      ],
      "text/markdown": [
       "1.9445"
      ],
      "text/plain": [
       "[1] 1.9445"
      ]
     },
     "metadata": {},
     "output_type": "display_data"
    }
   ],
   "source": [
    "subset.axenic.for.maha <- axenic.mtab.df[c(1:36), c(5:6)]\n",
    "axenic.mahalanobis <- mahalanobis_distance(axenic.mtab.df)\n",
    "axenic.mahalanobis.alt <- mahalanobis_distance(subset.axenic.for.maha)\n",
    "head(axenic.mahalanobis)\n",
    "head(axenic.mahalanobis.alt)\n",
    "mean(axenic.mahalanobis$mahal.dist)\n",
    "mean(axenic.mahalanobis.alt$mahal.dist)"
   ]
  },
  {
   "cell_type": "code",
   "execution_count": 15,
   "metadata": {},
   "outputs": [
    {
     "data": {
      "text/html": [
       "<table class=\"dataframe\">\n",
       "<caption>A data.frame: 6 × 4</caption>\n",
       "<thead>\n",
       "\t<tr><th></th><th scope=col>PC1</th><th scope=col>PC2</th><th scope=col>mahal.dist</th><th scope=col>is.outlier</th></tr>\n",
       "\t<tr><th></th><th scope=col>&lt;dbl&gt;</th><th scope=col>&lt;dbl&gt;</th><th scope=col>&lt;dbl&gt;</th><th scope=col>&lt;lgl&gt;</th></tr>\n",
       "</thead>\n",
       "<tbody>\n",
       "\t<tr><th scope=row>1</th><td>-2.67566046</td><td>-1.0368665</td><td>1.234</td><td>FALSE</td></tr>\n",
       "\t<tr><th scope=row>2</th><td>-2.61823811</td><td>-1.1246122</td><td>1.238</td><td>FALSE</td></tr>\n",
       "\t<tr><th scope=row>3</th><td>-2.84890498</td><td>-0.9907118</td><td>1.342</td><td>FALSE</td></tr>\n",
       "\t<tr><th scope=row>4</th><td> 0.27103590</td><td>-3.9108934</td><td>3.652</td><td>FALSE</td></tr>\n",
       "\t<tr><th scope=row>5</th><td>-0.10862434</td><td>-3.6580675</td><td>3.188</td><td>FALSE</td></tr>\n",
       "\t<tr><th scope=row>6</th><td> 0.01536551</td><td>-3.6276199</td><td>3.133</td><td>FALSE</td></tr>\n",
       "</tbody>\n",
       "</table>\n"
      ],
      "text/latex": [
       "A data.frame: 6 × 4\n",
       "\\begin{tabular}{r|llll}\n",
       "  & PC1 & PC2 & mahal.dist & is.outlier\\\\\n",
       "  & <dbl> & <dbl> & <dbl> & <lgl>\\\\\n",
       "\\hline\n",
       "\t1 & -2.67566046 & -1.0368665 & 1.234 & FALSE\\\\\n",
       "\t2 & -2.61823811 & -1.1246122 & 1.238 & FALSE\\\\\n",
       "\t3 & -2.84890498 & -0.9907118 & 1.342 & FALSE\\\\\n",
       "\t4 &  0.27103590 & -3.9108934 & 3.652 & FALSE\\\\\n",
       "\t5 & -0.10862434 & -3.6580675 & 3.188 & FALSE\\\\\n",
       "\t6 &  0.01536551 & -3.6276199 & 3.133 & FALSE\\\\\n",
       "\\end{tabular}\n"
      ],
      "text/markdown": [
       "\n",
       "A data.frame: 6 × 4\n",
       "\n",
       "| <!--/--> | PC1 &lt;dbl&gt; | PC2 &lt;dbl&gt; | mahal.dist &lt;dbl&gt; | is.outlier &lt;lgl&gt; |\n",
       "|---|---|---|---|---|\n",
       "| 1 | -2.67566046 | -1.0368665 | 1.234 | FALSE |\n",
       "| 2 | -2.61823811 | -1.1246122 | 1.238 | FALSE |\n",
       "| 3 | -2.84890498 | -0.9907118 | 1.342 | FALSE |\n",
       "| 4 |  0.27103590 | -3.9108934 | 3.652 | FALSE |\n",
       "| 5 | -0.10862434 | -3.6580675 | 3.188 | FALSE |\n",
       "| 6 |  0.01536551 | -3.6276199 | 3.133 | FALSE |\n",
       "\n"
      ],
      "text/plain": [
       "  PC1         PC2        mahal.dist is.outlier\n",
       "1 -2.67566046 -1.0368665 1.234      FALSE     \n",
       "2 -2.61823811 -1.1246122 1.238      FALSE     \n",
       "3 -2.84890498 -0.9907118 1.342      FALSE     \n",
       "4  0.27103590 -3.9108934 3.652      FALSE     \n",
       "5 -0.10862434 -3.6580675 3.188      FALSE     \n",
       "6  0.01536551 -3.6276199 3.133      FALSE     "
      ]
     },
     "metadata": {},
     "output_type": "display_data"
    },
    {
     "data": {
      "text/html": [
       "1.94444444444444"
      ],
      "text/latex": [
       "1.94444444444444"
      ],
      "text/markdown": [
       "1.94444444444444"
      ],
      "text/plain": [
       "[1] 1.944444"
      ]
     },
     "metadata": {},
     "output_type": "display_data"
    }
   ],
   "source": [
    "#Now reseeded samples\n",
    "\n",
    "reseeded.mahalanobis <- mahalanobis_distance(reseeded.mtab.df)\n",
    "head(reseeded.mahalanobis)\n",
    "mean(reseeded.mahalanobis$mahal.dist)"
   ]
  },
  {
   "cell_type": "markdown",
   "metadata": {},
   "source": [
    "### Analysis\n",
    "\n",
    "This isn't too bad! Without the underlying principle component data of the figures the authors created, it's hard to evaluate quantitatively the difference between these figure and the authors' PCAs, but they at least appear fairly similar. The scale on my PC axes are different, and the graphs are mirrored relative to the published figures, but qualitatively these results are similar, and reflect differences in the exometabolome and activity of axenic diatom cultures vs. diatom cultures reseeded with their bacterial consortia. \n",
    "\n",
    "The differences between these figures and the published figures 2a-c could be due to several factors: the authors normalized to sample volume, which we can't do, and the use of a different program for generating PCAs may have led to different underlying parameters. The authors didn't specify any parameters in the generation of their PCAs, beyond the log10 normalization and unspecified scaling, which makes this a bit of a black box. \n",
    "\n",
    "Mahalanobis distances are one way we can evaluate our results to the authors' a bit more quanititatively. Our calculated Mahalanobis distances are smaller than the authors', and again probably reflect the lack of clarity around how those distances were calculated in the original paper, or additional normalization that we do not have the ability to do. "
   ]
  },
  {
   "cell_type": "markdown",
   "metadata": {},
   "source": [
    "## Evaluating the heatmap (Figure 2d)\n",
    "\n",
    "In figure 2d, Shibl and colleagues present a heatmap of \"confirmed\" metabolites, color-coded by their intensity. The data underlying this figure is split between tables: one, the same data table used to generate figures 2a-c which contains a list of mzRTs and their intensity across all samples; and two, the table of mass (M (Da)), retention time (RT), and compound identity. Therefore, as a first step towards making the heatmap, I'll need to match plausible sample mzRTs to the standard m/z's and RTs. In order to be a match, a sample mzRT must match the standard m/z within reasonable error (more details below) and match the standard RT within ~seconds, not ~minutes\n",
    "\n",
    "As with the PCAs, these data underwent some manual manipulation prior to analysis, which is described in the README. \n",
    "\n",
    "### Start with data download:"
   ]
  },
  {
   "cell_type": "code",
   "execution_count": 25,
   "metadata": {},
   "outputs": [
    {
     "data": {
      "text/html": [
       "<style>\n",
       ".list-inline {list-style: none; margin:0; padding: 0}\n",
       ".list-inline>li {display: inline-block}\n",
       ".list-inline>li:not(:last-child)::after {content: \"\\00b7\"; padding: 0 .5ex}\n",
       "</style>\n",
       "<ol class=list-inline><li>1237</li><li>74</li></ol>\n"
      ],
      "text/latex": [
       "\\begin{enumerate*}\n",
       "\\item 1237\n",
       "\\item 74\n",
       "\\end{enumerate*}\n"
      ],
      "text/markdown": [
       "1. 1237\n",
       "2. 74\n",
       "\n",
       "\n"
      ],
      "text/plain": [
       "[1] 1237   74"
      ]
     },
     "metadata": {},
     "output_type": "display_data"
    },
    {
     "data": {
      "text/html": [
       "<table class=\"dataframe\">\n",
       "<caption>A data.frame: 6 × 6</caption>\n",
       "<thead>\n",
       "\t<tr><th></th><th scope=col>M..Da.</th><th scope=col>RT..min.</th><th scope=col>Adduct</th><th scope=col>Name</th><th scope=col>Calculated.m.z</th><th scope=col>RT..s.</th></tr>\n",
       "\t<tr><th></th><th scope=col>&lt;dbl&gt;</th><th scope=col>&lt;dbl&gt;</th><th scope=col>&lt;chr&gt;</th><th scope=col>&lt;chr&gt;</th><th scope=col>&lt;dbl&gt;</th><th scope=col>&lt;dbl&gt;</th></tr>\n",
       "</thead>\n",
       "<tbody>\n",
       "\t<tr><th scope=row>1</th><td>103.0622</td><td>19.94</td><td>[4M+H]+  </td><td>4-Aminobutanoate      </td><td>413.25662</td><td>1196.4</td></tr>\n",
       "\t<tr><th scope=row>2</th><td>117.0780</td><td> 0.45</td><td>[M+H+H]2+</td><td>Norvaline             </td><td> 59.54682</td><td>  27.0</td></tr>\n",
       "\t<tr><th scope=row>3</th><td>119.0578</td><td>12.42</td><td>[M+H]+   </td><td>Threonine             </td><td>120.06562</td><td> 745.2</td></tr>\n",
       "\t<tr><th scope=row>4</th><td>122.0369</td><td>10.25</td><td>[M+H]+   </td><td>4-Hydroxybenzaldehyde </td><td>123.04472</td><td> 615.0</td></tr>\n",
       "\t<tr><th scope=row>5</th><td>131.0946</td><td>13.51</td><td>[M+H]+   </td><td>Leucine               </td><td>132.10243</td><td> 810.6</td></tr>\n",
       "\t<tr><th scope=row>6</th><td>136.0511</td><td>19.91</td><td>[M+H]+   </td><td>Phenylacetic acid     </td><td>137.05892</td><td>1194.6</td></tr>\n",
       "</tbody>\n",
       "</table>\n"
      ],
      "text/latex": [
       "A data.frame: 6 × 6\n",
       "\\begin{tabular}{r|llllll}\n",
       "  & M..Da. & RT..min. & Adduct & Name & Calculated.m.z & RT..s.\\\\\n",
       "  & <dbl> & <dbl> & <chr> & <chr> & <dbl> & <dbl>\\\\\n",
       "\\hline\n",
       "\t1 & 103.0622 & 19.94 & {[}4M+H{]}+   & 4-Aminobutanoate       & 413.25662 & 1196.4\\\\\n",
       "\t2 & 117.0780 &  0.45 & {[}M+H+H{]}2+ & Norvaline              &  59.54682 &   27.0\\\\\n",
       "\t3 & 119.0578 & 12.42 & {[}M+H{]}+    & Threonine              & 120.06562 &  745.2\\\\\n",
       "\t4 & 122.0369 & 10.25 & {[}M+H{]}+    & 4-Hydroxybenzaldehyde  & 123.04472 &  615.0\\\\\n",
       "\t5 & 131.0946 & 13.51 & {[}M+H{]}+    & Leucine                & 132.10243 &  810.6\\\\\n",
       "\t6 & 136.0511 & 19.91 & {[}M+H{]}+    & Phenylacetic acid      & 137.05892 & 1194.6\\\\\n",
       "\\end{tabular}\n"
      ],
      "text/markdown": [
       "\n",
       "A data.frame: 6 × 6\n",
       "\n",
       "| <!--/--> | M..Da. &lt;dbl&gt; | RT..min. &lt;dbl&gt; | Adduct &lt;chr&gt; | Name &lt;chr&gt; | Calculated.m.z &lt;dbl&gt; | RT..s. &lt;dbl&gt; |\n",
       "|---|---|---|---|---|---|---|\n",
       "| 1 | 103.0622 | 19.94 | [4M+H]+   | 4-Aminobutanoate       | 413.25662 | 1196.4 |\n",
       "| 2 | 117.0780 |  0.45 | [M+H+H]2+ | Norvaline              |  59.54682 |   27.0 |\n",
       "| 3 | 119.0578 | 12.42 | [M+H]+    | Threonine              | 120.06562 |  745.2 |\n",
       "| 4 | 122.0369 | 10.25 | [M+H]+    | 4-Hydroxybenzaldehyde  | 123.04472 |  615.0 |\n",
       "| 5 | 131.0946 | 13.51 | [M+H]+    | Leucine                | 132.10243 |  810.6 |\n",
       "| 6 | 136.0511 | 19.91 | [M+H]+    | Phenylacetic acid      | 137.05892 | 1194.6 |\n",
       "\n"
      ],
      "text/plain": [
       "  M..Da.   RT..min. Adduct    Name                   Calculated.m.z RT..s.\n",
       "1 103.0622 19.94    [4M+H]+   4-Aminobutanoate       413.25662      1196.4\n",
       "2 117.0780  0.45    [M+H+H]2+ Norvaline               59.54682        27.0\n",
       "3 119.0578 12.42    [M+H]+    Threonine              120.06562       745.2\n",
       "4 122.0369 10.25    [M+H]+    4-Hydroxybenzaldehyde  123.04472       615.0\n",
       "5 131.0946 13.51    [M+H]+    Leucine                132.10243       810.6\n",
       "6 136.0511 19.91    [M+H]+    Phenylacetic acid      137.05892      1194.6"
      ]
     },
     "metadata": {},
     "output_type": "display_data"
    }
   ],
   "source": [
    "mtab_data <- \"../data/clean_data/metabolome/Dataset_S01_edit.csv\"\n",
    "d_mtab <- read.table(mtab_data, header = TRUE, sep = \",\", stringsAsFactors = FALSE)\n",
    "dim(d_mtab)\n",
    "#Below data transformations not really relevant for this project\n",
    "#d_mtab_numeric <- d_mtab[c(1:72), c(2:1238)]\n",
    "#d_mtab_numeric_log <- mutate(log10(d_mtab_numeric + 1))\n",
    "\n",
    "mtab_ID <- \"../data/clean_data/metabolome/Table_S4.csv\"\n",
    "d_ID <- read.table(mtab_ID, header = TRUE, sep = \",\", stringsAsFactors = FALSE)\n",
    "head(d_ID)"
   ]
  },
  {
   "cell_type": "markdown",
   "metadata": {},
   "source": [
    "### Next, set m/z ranges that reflect reasonable error tolerances\n",
    "\n",
    "There are several possible reasonable error tolerances. Your error tolerance could be determined by the precision required for unambiguous formula assignments (0.0001 Da); by the reported instrumental accuracy for the instrument which generated these data (1 ppm, according to Bruker's advertising); or by other prior knowledge (e,g,, when I'm looking for a compound in chromatograms I generate for work, I extract for a m/z using a 5 ppm tolerance - so I consider 5 ppm to be a reasonable error threshold)"
   ]
  },
  {
   "cell_type": "code",
   "execution_count": 26,
   "metadata": {},
   "outputs": [
    {
     "data": {
      "text/html": [
       "<table class=\"dataframe\">\n",
       "<caption>A data.frame: 6 × 9</caption>\n",
       "<thead>\n",
       "\t<tr><th></th><th scope=col>M..Da.</th><th scope=col>RT..min.</th><th scope=col>Adduct</th><th scope=col>Name</th><th scope=col>Calculated.m.z</th><th scope=col>RT..s.</th><th scope=col>error</th><th scope=col>m.z.low</th><th scope=col>m.z.high</th></tr>\n",
       "\t<tr><th></th><th scope=col>&lt;dbl&gt;</th><th scope=col>&lt;dbl&gt;</th><th scope=col>&lt;chr&gt;</th><th scope=col>&lt;chr&gt;</th><th scope=col>&lt;dbl&gt;</th><th scope=col>&lt;dbl&gt;</th><th scope=col>&lt;dbl&gt;</th><th scope=col>&lt;dbl&gt;</th><th scope=col>&lt;dbl&gt;</th></tr>\n",
       "</thead>\n",
       "<tbody>\n",
       "\t<tr><th scope=row>1</th><td>103.0622</td><td>19.94</td><td>[4M+H]+  </td><td>4-Aminobutanoate      </td><td>413.25662</td><td>1196.4</td><td>0.0020662831</td><td>413.25456</td><td>413.25869</td></tr>\n",
       "\t<tr><th scope=row>2</th><td>117.0780</td><td> 0.45</td><td>[M+H+H]2+</td><td>Norvaline             </td><td> 59.54682</td><td>  27.0</td><td>0.0002977341</td><td> 59.54653</td><td> 59.54712</td></tr>\n",
       "\t<tr><th scope=row>3</th><td>119.0578</td><td>12.42</td><td>[M+H]+   </td><td>Threonine             </td><td>120.06562</td><td> 745.2</td><td>0.0006003281</td><td>120.06502</td><td>120.06623</td></tr>\n",
       "\t<tr><th scope=row>4</th><td>122.0369</td><td>10.25</td><td>[M+H]+   </td><td>4-Hydroxybenzaldehyde </td><td>123.04472</td><td> 615.0</td><td>0.0006152236</td><td>123.04411</td><td>123.04534</td></tr>\n",
       "\t<tr><th scope=row>5</th><td>131.0946</td><td>13.51</td><td>[M+H]+   </td><td>Leucine               </td><td>132.10243</td><td> 810.6</td><td>0.0006605121</td><td>132.10176</td><td>132.10309</td></tr>\n",
       "\t<tr><th scope=row>6</th><td>136.0511</td><td>19.91</td><td>[M+H]+   </td><td>Phenylacetic acid     </td><td>137.05892</td><td>1194.6</td><td>0.0006852946</td><td>137.05824</td><td>137.05961</td></tr>\n",
       "</tbody>\n",
       "</table>\n"
      ],
      "text/latex": [
       "A data.frame: 6 × 9\n",
       "\\begin{tabular}{r|lllllllll}\n",
       "  & M..Da. & RT..min. & Adduct & Name & Calculated.m.z & RT..s. & error & m.z.low & m.z.high\\\\\n",
       "  & <dbl> & <dbl> & <chr> & <chr> & <dbl> & <dbl> & <dbl> & <dbl> & <dbl>\\\\\n",
       "\\hline\n",
       "\t1 & 103.0622 & 19.94 & {[}4M+H{]}+   & 4-Aminobutanoate       & 413.25662 & 1196.4 & 0.0020662831 & 413.25456 & 413.25869\\\\\n",
       "\t2 & 117.0780 &  0.45 & {[}M+H+H{]}2+ & Norvaline              &  59.54682 &   27.0 & 0.0002977341 &  59.54653 &  59.54712\\\\\n",
       "\t3 & 119.0578 & 12.42 & {[}M+H{]}+    & Threonine              & 120.06562 &  745.2 & 0.0006003281 & 120.06502 & 120.06623\\\\\n",
       "\t4 & 122.0369 & 10.25 & {[}M+H{]}+    & 4-Hydroxybenzaldehyde  & 123.04472 &  615.0 & 0.0006152236 & 123.04411 & 123.04534\\\\\n",
       "\t5 & 131.0946 & 13.51 & {[}M+H{]}+    & Leucine                & 132.10243 &  810.6 & 0.0006605121 & 132.10176 & 132.10309\\\\\n",
       "\t6 & 136.0511 & 19.91 & {[}M+H{]}+    & Phenylacetic acid      & 137.05892 & 1194.6 & 0.0006852946 & 137.05824 & 137.05961\\\\\n",
       "\\end{tabular}\n"
      ],
      "text/markdown": [
       "\n",
       "A data.frame: 6 × 9\n",
       "\n",
       "| <!--/--> | M..Da. &lt;dbl&gt; | RT..min. &lt;dbl&gt; | Adduct &lt;chr&gt; | Name &lt;chr&gt; | Calculated.m.z &lt;dbl&gt; | RT..s. &lt;dbl&gt; | error &lt;dbl&gt; | m.z.low &lt;dbl&gt; | m.z.high &lt;dbl&gt; |\n",
       "|---|---|---|---|---|---|---|---|---|---|\n",
       "| 1 | 103.0622 | 19.94 | [4M+H]+   | 4-Aminobutanoate       | 413.25662 | 1196.4 | 0.0020662831 | 413.25456 | 413.25869 |\n",
       "| 2 | 117.0780 |  0.45 | [M+H+H]2+ | Norvaline              |  59.54682 |   27.0 | 0.0002977341 |  59.54653 |  59.54712 |\n",
       "| 3 | 119.0578 | 12.42 | [M+H]+    | Threonine              | 120.06562 |  745.2 | 0.0006003281 | 120.06502 | 120.06623 |\n",
       "| 4 | 122.0369 | 10.25 | [M+H]+    | 4-Hydroxybenzaldehyde  | 123.04472 |  615.0 | 0.0006152236 | 123.04411 | 123.04534 |\n",
       "| 5 | 131.0946 | 13.51 | [M+H]+    | Leucine                | 132.10243 |  810.6 | 0.0006605121 | 132.10176 | 132.10309 |\n",
       "| 6 | 136.0511 | 19.91 | [M+H]+    | Phenylacetic acid      | 137.05892 | 1194.6 | 0.0006852946 | 137.05824 | 137.05961 |\n",
       "\n"
      ],
      "text/plain": [
       "  M..Da.   RT..min. Adduct    Name                   Calculated.m.z RT..s.\n",
       "1 103.0622 19.94    [4M+H]+   4-Aminobutanoate       413.25662      1196.4\n",
       "2 117.0780  0.45    [M+H+H]2+ Norvaline               59.54682        27.0\n",
       "3 119.0578 12.42    [M+H]+    Threonine              120.06562       745.2\n",
       "4 122.0369 10.25    [M+H]+    4-Hydroxybenzaldehyde  123.04472       615.0\n",
       "5 131.0946 13.51    [M+H]+    Leucine                132.10243       810.6\n",
       "6 136.0511 19.91    [M+H]+    Phenylacetic acid      137.05892      1194.6\n",
       "  error        m.z.low   m.z.high \n",
       "1 0.0020662831 413.25456 413.25869\n",
       "2 0.0002977341  59.54653  59.54712\n",
       "3 0.0006003281 120.06502 120.06623\n",
       "4 0.0006152236 123.04411 123.04534\n",
       "5 0.0006605121 132.10176 132.10309\n",
       "6 0.0006852946 137.05824 137.05961"
      ]
     },
     "metadata": {},
     "output_type": "display_data"
    }
   ],
   "source": [
    "#Select desired error tolerance - in order, 0.0001 Da; 1ppm; or 5ppm. Uncomment relevant line. Default is most tolerant - 5 ppm\n",
    "\n",
    "#d_ID$error <- 0.0001\n",
    "#d_ID$error <- d_ID$Calculated.m.z*(1E-6)\n",
    "d_ID$error <- d_ID$Calculated.m.z*(5E-6)\n",
    "\n",
    "d_ID$m.z.low <- d_ID$Calculated.m.z - d_ID$error\n",
    "d_ID$m.z.high <- d_ID$Calculated.m.z + d_ID$error\n",
    "\n",
    "head(d_ID)"
   ]
  },
  {
   "cell_type": "markdown",
   "metadata": {},
   "source": [
    "Filter out intensity data from mzRT + intensity table - intensity is not relevant yet"
   ]
  },
  {
   "cell_type": "code",
   "execution_count": 27,
   "metadata": {},
   "outputs": [],
   "source": [
    "d_mzRT <- d_mtab[c(1:1237), c(1:2)]"
   ]
  },
  {
   "cell_type": "markdown",
   "metadata": {},
   "source": [
    "### Try a way of matching \"identified\" compounds against sample mzRTs\n",
    "\n",
    "I'm pretty sure this is bad R and I should have tried this in a different language (literally anything else) with a for loop but I'm hacking it like this regardless. Sorry for the wildly inelegant solution!\n",
    "\n",
    "Here, I'm checking each sample m/z listed against the relevant m/z range for each metabolite reported as \"confirmed\" by Shibl et al. I generate a new column in my sample dataframe for each metabolite; that column contains a logical operator, where \"TRUE\" means that mzRT is a reasonable match for the \"confirmed\" metabolite represented by that column. I then count the instances of \"TRUE\" to evaluate if a reasonable m/z match for the reported \"confirmed\" metabolite is present in the sample data. "
   ]
  },
  {
   "cell_type": "code",
   "execution_count": 28,
   "metadata": {},
   "outputs": [
    {
     "data": {
      "text/html": [
       "0"
      ],
      "text/latex": [
       "0"
      ],
      "text/markdown": [
       "0"
      ],
      "text/plain": [
       "[1] 0"
      ]
     },
     "metadata": {},
     "output_type": "display_data"
    },
    {
     "data": {
      "text/html": [
       "0"
      ],
      "text/latex": [
       "0"
      ],
      "text/markdown": [
       "0"
      ],
      "text/plain": [
       "[1] 0"
      ]
     },
     "metadata": {},
     "output_type": "display_data"
    },
    {
     "data": {
      "text/html": [
       "0"
      ],
      "text/latex": [
       "0"
      ],
      "text/markdown": [
       "0"
      ],
      "text/plain": [
       "[1] 0"
      ]
     },
     "metadata": {},
     "output_type": "display_data"
    },
    {
     "data": {
      "text/html": [
       "0"
      ],
      "text/latex": [
       "0"
      ],
      "text/markdown": [
       "0"
      ],
      "text/plain": [
       "[1] 0"
      ]
     },
     "metadata": {},
     "output_type": "display_data"
    },
    {
     "data": {
      "text/html": [
       "0"
      ],
      "text/latex": [
       "0"
      ],
      "text/markdown": [
       "0"
      ],
      "text/plain": [
       "[1] 0"
      ]
     },
     "metadata": {},
     "output_type": "display_data"
    },
    {
     "data": {
      "text/html": [
       "0"
      ],
      "text/latex": [
       "0"
      ],
      "text/markdown": [
       "0"
      ],
      "text/plain": [
       "[1] 0"
      ]
     },
     "metadata": {},
     "output_type": "display_data"
    },
    {
     "data": {
      "text/html": [
       "0"
      ],
      "text/latex": [
       "0"
      ],
      "text/markdown": [
       "0"
      ],
      "text/plain": [
       "[1] 0"
      ]
     },
     "metadata": {},
     "output_type": "display_data"
    },
    {
     "data": {
      "text/html": [
       "0"
      ],
      "text/latex": [
       "0"
      ],
      "text/markdown": [
       "0"
      ],
      "text/plain": [
       "[1] 0"
      ]
     },
     "metadata": {},
     "output_type": "display_data"
    },
    {
     "data": {
      "text/html": [
       "0"
      ],
      "text/latex": [
       "0"
      ],
      "text/markdown": [
       "0"
      ],
      "text/plain": [
       "[1] 0"
      ]
     },
     "metadata": {},
     "output_type": "display_data"
    },
    {
     "data": {
      "text/html": [
       "0"
      ],
      "text/latex": [
       "0"
      ],
      "text/markdown": [
       "0"
      ],
      "text/plain": [
       "[1] 0"
      ]
     },
     "metadata": {},
     "output_type": "display_data"
    },
    {
     "data": {
      "text/html": [
       "0"
      ],
      "text/latex": [
       "0"
      ],
      "text/markdown": [
       "0"
      ],
      "text/plain": [
       "[1] 0"
      ]
     },
     "metadata": {},
     "output_type": "display_data"
    },
    {
     "data": {
      "text/html": [
       "0"
      ],
      "text/latex": [
       "0"
      ],
      "text/markdown": [
       "0"
      ],
      "text/plain": [
       "[1] 0"
      ]
     },
     "metadata": {},
     "output_type": "display_data"
    },
    {
     "data": {
      "text/html": [
       "0"
      ],
      "text/latex": [
       "0"
      ],
      "text/markdown": [
       "0"
      ],
      "text/plain": [
       "[1] 0"
      ]
     },
     "metadata": {},
     "output_type": "display_data"
    },
    {
     "data": {
      "text/html": [
       "0"
      ],
      "text/latex": [
       "0"
      ],
      "text/markdown": [
       "0"
      ],
      "text/plain": [
       "[1] 0"
      ]
     },
     "metadata": {},
     "output_type": "display_data"
    },
    {
     "data": {
      "text/html": [
       "0"
      ],
      "text/latex": [
       "0"
      ],
      "text/markdown": [
       "0"
      ],
      "text/plain": [
       "[1] 0"
      ]
     },
     "metadata": {},
     "output_type": "display_data"
    },
    {
     "data": {
      "text/html": [
       "0"
      ],
      "text/latex": [
       "0"
      ],
      "text/markdown": [
       "0"
      ],
      "text/plain": [
       "[1] 0"
      ]
     },
     "metadata": {},
     "output_type": "display_data"
    },
    {
     "data": {
      "text/html": [
       "0"
      ],
      "text/latex": [
       "0"
      ],
      "text/markdown": [
       "0"
      ],
      "text/plain": [
       "[1] 0"
      ]
     },
     "metadata": {},
     "output_type": "display_data"
    },
    {
     "data": {
      "text/html": [
       "0"
      ],
      "text/latex": [
       "0"
      ],
      "text/markdown": [
       "0"
      ],
      "text/plain": [
       "[1] 0"
      ]
     },
     "metadata": {},
     "output_type": "display_data"
    },
    {
     "data": {
      "text/html": [
       "0"
      ],
      "text/latex": [
       "0"
      ],
      "text/markdown": [
       "0"
      ],
      "text/plain": [
       "[1] 0"
      ]
     },
     "metadata": {},
     "output_type": "display_data"
    },
    {
     "data": {
      "text/html": [
       "0"
      ],
      "text/latex": [
       "0"
      ],
      "text/markdown": [
       "0"
      ],
      "text/plain": [
       "[1] 0"
      ]
     },
     "metadata": {},
     "output_type": "display_data"
    },
    {
     "data": {
      "text/html": [
       "0"
      ],
      "text/latex": [
       "0"
      ],
      "text/markdown": [
       "0"
      ],
      "text/plain": [
       "[1] 0"
      ]
     },
     "metadata": {},
     "output_type": "display_data"
    },
    {
     "data": {
      "text/html": [
       "0"
      ],
      "text/latex": [
       "0"
      ],
      "text/markdown": [
       "0"
      ],
      "text/plain": [
       "[1] 0"
      ]
     },
     "metadata": {},
     "output_type": "display_data"
    },
    {
     "data": {
      "text/html": [
       "0"
      ],
      "text/latex": [
       "0"
      ],
      "text/markdown": [
       "0"
      ],
      "text/plain": [
       "[1] 0"
      ]
     },
     "metadata": {},
     "output_type": "display_data"
    },
    {
     "data": {
      "text/html": [
       "0"
      ],
      "text/latex": [
       "0"
      ],
      "text/markdown": [
       "0"
      ],
      "text/plain": [
       "[1] 0"
      ]
     },
     "metadata": {},
     "output_type": "display_data"
    },
    {
     "data": {
      "text/html": [
       "0"
      ],
      "text/latex": [
       "0"
      ],
      "text/markdown": [
       "0"
      ],
      "text/plain": [
       "[1] 0"
      ]
     },
     "metadata": {},
     "output_type": "display_data"
    },
    {
     "data": {
      "text/html": [
       "3"
      ],
      "text/latex": [
       "3"
      ],
      "text/markdown": [
       "3"
      ],
      "text/plain": [
       "[1] 3"
      ]
     },
     "metadata": {},
     "output_type": "display_data"
    },
    {
     "data": {
      "text/html": [
       "0"
      ],
      "text/latex": [
       "0"
      ],
      "text/markdown": [
       "0"
      ],
      "text/plain": [
       "[1] 0"
      ]
     },
     "metadata": {},
     "output_type": "display_data"
    },
    {
     "data": {
      "text/html": [
       "0"
      ],
      "text/latex": [
       "0"
      ],
      "text/markdown": [
       "0"
      ],
      "text/plain": [
       "[1] 0"
      ]
     },
     "metadata": {},
     "output_type": "display_data"
    }
   ],
   "source": [
    "d_mzRT$aminobenzoate <- between(d_mzRT$m.z..positive.mode., d_ID[1,8], d_ID[1,9])\n",
    "length(d_mzRT$aminobenzoate[d_mzRT$aminobenzoate==TRUE])\n",
    "\n",
    "d_mzRT$Norvaline <- between(d_mzRT$m.z..positive.mode., d_ID[2,8], d_ID[2,9])\n",
    "length(d_mzRT$Norvaline[d_mzRT$Norvaline==TRUE])\n",
    "\n",
    "d_mzRT$Threonine <- between(d_mzRT$m.z..positive.mode., d_ID[3,8], d_ID[3,9])\n",
    "length(d_mzRT$Threonine[d_mzRT$Threonine==TRUE])\n",
    "\n",
    "d_mzRT$Hydroxybenzaldehyde <- between(d_mzRT$m.z..positive.mode., d_ID[4,8], d_ID[4,9])\n",
    "length(d_mzRT$Hydroxybenzaldehyde[d_mzRT$Hydroxybenzaldehyde==TRUE])\n",
    "\n",
    "d_mzRT$Leucine <- between(d_mzRT$m.z..positive.mode., d_ID[5,8], d_ID[5,9])\n",
    "length(d_mzRT$Leucine[d_mzRT$Leucine==TRUE])\n",
    "\n",
    "d_mzRT$Phenylacetic <- between(d_mzRT$m.z..positive.mode., d_ID[6,8], d_ID[6,9])\n",
    "length(d_mzRT$Phenylacetic[d_mzRT$Phenylacetic==TRUE])\n",
    "\n",
    "d_mzRT$Phenyl <- between(d_mzRT$m.z..positive.mode., d_ID[7,8], d_ID[7,9])\n",
    "length(d_mzRT$Phenyl[d_mzRT$Phenyl==TRUE])\n",
    "\n",
    "d_mzRT$Salicylic <- between(d_mzRT$m.z..positive.mode., d_ID[8,8], d_ID[8,9])\n",
    "length(d_mzRT$Salicylic[d_mzRT$Salicylic==TRUE])\n",
    "\n",
    "d_mzRT$Acetamidobutanoic <- between(d_mzRT$m.z..positive.mode., d_ID[9,8], d_ID[9,9])\n",
    "length(d_mzRT$Acetamidobutanoic[d_mzRT$Acetamidobutanoic==TRUE])\n",
    "\n",
    "d_mzRT$Methyglutaric <- between(d_mzRT$m.z..positive.mode., d_ID[10,8], d_ID[10,9])\n",
    "length(d_mzRT$Methyglutaric[d_mzRT$Methyglutaric==TRUE])\n",
    "\n",
    "d_mzRT$Hydroxyphenylacetate <- between(d_mzRT$m.z..positive.mode., d_ID[11,8], d_ID[11,9])\n",
    "length(d_mzRT$Hydroxyphenylacetate[d_mzRT$Hydroxyphenylacetate==TRUE])\n",
    "\n",
    "d_mzRT$Aminoadipate <- between(d_mzRT$m.z..positive.mode., d_ID[12,8], d_ID[12,9])\n",
    "length(d_mzRT$Aminoadipate[d_mzRT$Aminoadipate==TRUE])\n",
    "\n",
    "d_mzRT$Hydroxyphenylglycine <- between(d_mzRT$m.z..positive.mode., d_ID[13,8], d_ID[13,9])\n",
    "length(d_mzRT$Hydroxyphenylglycine[d_mzRT$Hydroxyphenylglycine==TRUE])\n",
    "\n",
    "d_mzRT$Methylhistidine <- between(d_mzRT$m.z..positive.mode., d_ID[14,8], d_ID[14,9])\n",
    "length(d_mzRT$Methylhistidine[d_mzRT$Methylhistidine==TRUE])\n",
    "\n",
    "d_mzRT$Quinolinecarboxylic <- between(d_mzRT$m.z..positive.mode., d_ID[15,8], d_ID[15,9])\n",
    "length(d_mzRT$Quinolinecarboxylic[d_mzRT$Quinolinecarboxylic==TRUE])\n",
    "\n",
    "d_mzRT$Suberic <- between(d_mzRT$m.z..positive.mode., d_ID[16,8], d_ID[16,9])\n",
    "length(d_mzRT$Suberic[d_mzRT$Suberic==TRUE])\n",
    "\n",
    "d_mzRT$Citrulline <- between(d_mzRT$m.z..positive.mode., d_ID[17,8], d_ID[17,9])\n",
    "length(d_mzRT$Citrulline[d_mzRT$Citrulline==TRUE])\n",
    "\n",
    "d_mzRT$Hippurate <- between(d_mzRT$m.z..positive.mode., d_ID[18,8], d_ID[18,9])\n",
    "length(d_mzRT$Hippurate[d_mzRT$Hippurate==TRUE])\n",
    "\n",
    "d_mzRT$Phosphoglyceric <- between(d_mzRT$m.z..positive.mode., d_ID[19,8], d_ID[19,9])\n",
    "length(d_mzRT$Phosphoglyceric[d_mzRT$Phosphoglyceric==TRUE])\n",
    "\n",
    "d_mzRT$Azelaic <- between(d_mzRT$m.z..positive.mode., d_ID[20,8], d_ID[20,9])\n",
    "length(d_mzRT$Azelaic[d_mzRT$Azelaic==TRUE])\n",
    "\n",
    "d_mzRT$Nacetylgalactosamine <- between(d_mzRT$m.z..positive.mode., d_ID[21,8], d_ID[21,9])\n",
    "length(d_mzRT$Nacetylgalactosamine[d_mzRT$Nacetylgalactosamine==TRUE])\n",
    "\n",
    "d_mzRT$Carnosine <- between(d_mzRT$m.z..positive.mode., d_ID[22,8], d_ID[22,9])\n",
    "length(d_mzRT$Carnosine[d_mzRT$Carnosine==TRUE])\n",
    "\n",
    "d_mzRT$Oleic <- between(d_mzRT$m.z..positive.mode., d_ID[23,8], d_ID[23,9])\n",
    "length(d_mzRT$Oleic[d_mzRT$Oleic==TRUE])\n",
    "\n",
    "d_mzRT$Stearic <- between(d_mzRT$m.z..positive.mode., d_ID[24,8], d_ID[24,9])\n",
    "length(d_mzRT$Stearic[d_mzRT$Stearic==TRUE])\n",
    "\n",
    "d_mzRT$Sphinganine <- between(d_mzRT$m.z..positive.mode., d_ID[25,8], d_ID[25,9])\n",
    "length(d_mzRT$Sphinganine[d_mzRT$Sphinganine==TRUE])\n",
    "\n",
    "d_mzRT$NTetradecanoylaspartic <- between(d_mzRT$m.z..positive.mode., d_ID[26,8], d_ID[26,9])\n",
    "length(d_mzRT$NTetradecanoylaspartic[d_mzRT$NTetradecanoylaspartic==TRUE])\n",
    "\n",
    "d_mzRT$Rosmarinic <- between(d_mzRT$m.z..positive.mode., d_ID[27,8], d_ID[27,9])\n",
    "length(d_mzRT$Rosmarinic[d_mzRT$Rosmarinic==TRUE])\n",
    "\n",
    "d_mzRT$glycerophosphocholine <- between(d_mzRT$m.z..positive.mode., d_ID[28,8], d_ID[28,9])\n",
    "length(d_mzRT$glycerophosphocholine[d_mzRT$glycerophosphocholine==TRUE])"
   ]
  },
  {
   "cell_type": "markdown",
   "metadata": {},
   "source": [
    "This tells me that there is only one identified compound in the \"d_ID\" table that has matches in the \"d_mzRT\" table, and that there are three mzRTs that have an mzRT within error of that compound. That compound is \"NTetradecanoylaspartic\" (actual name N-Tetradecanoylaspartic acid). Now, of those three, let's see if there is a RT with a reasonable match"
   ]
  },
  {
   "cell_type": "markdown",
   "metadata": {},
   "source": [
    "## Filter for possible N-Tetradecanoylaspartic acid matches"
   ]
  },
  {
   "cell_type": "code",
   "execution_count": 29,
   "metadata": {},
   "outputs": [],
   "source": [
    "d_mzRT_Ntetradecanoylaspartic <- filter(d_mzRT, d_mzRT$NTetradecanoylaspartic==TRUE)"
   ]
  },
  {
   "cell_type": "markdown",
   "metadata": {},
   "source": [
    "## Compare retention times\n",
    "\n",
    "I again apologize for the inelegant solution, but there's literally only one compound to look for out of only 28 compounds, so I've used a low-tech approach to find the retention time for identified N-Tetradecanoylaspartic acid"
   ]
  },
  {
   "cell_type": "code",
   "execution_count": 31,
   "metadata": {},
   "outputs": [
    {
     "data": {
      "text/html": [
       "<style>\n",
       ".list-inline {list-style: none; margin:0; padding: 0}\n",
       ".list-inline>li {display: inline-block}\n",
       ".list-inline>li:not(:last-child)::after {content: \"\\00b7\"; padding: 0 .5ex}\n",
       "</style>\n",
       "<ol class=list-inline><li>28</li><li>9</li></ol>\n"
      ],
      "text/latex": [
       "\\begin{enumerate*}\n",
       "\\item 28\n",
       "\\item 9\n",
       "\\end{enumerate*}\n"
      ],
      "text/markdown": [
       "1. 28\n",
       "2. 9\n",
       "\n",
       "\n"
      ],
      "text/plain": [
       "[1] 28  9"
      ]
     },
     "metadata": {},
     "output_type": "display_data"
    }
   ],
   "source": [
    "dim(d_ID)"
   ]
  },
  {
   "cell_type": "code",
   "execution_count": 32,
   "metadata": {},
   "outputs": [
    {
     "name": "stdout",
     "output_type": "stream",
     "text": [
      "     M..Da. RT..min.  Adduct                              Name Calculated.m.z\n",
      "23 282.2556    17.01 [M-H]-                         Oleic acid       281.2478\n",
      "24 284.2709    18.17 [M-H]-                       Stearic acid       283.2631\n",
      "25 301.2980    10.46  [M+H]+                       Sphinganine       302.3058\n",
      "26 342.2278    15.50  [M+H]+      N-Tetradecanoylaspartic acid       343.2356\n",
      "27 360.0843    18.77 [M+H]+                    Rosmarinic acid       361.0921\n",
      "28 541.3372    16.60 [M-H]-  C16-hydroxy-glycerophosphocholine       540.3294\n",
      "   RT..s.       error  m.z.low m.z.high\n",
      "23 1020.6 0.001406239 281.2464 281.2492\n",
      "24 1090.2 0.001416315 283.2617 283.2645\n",
      "25  627.6 0.001511529 302.3043 302.3073\n",
      "26  930.0 0.001716178 343.2339 343.2373\n",
      "27 1126.2 0.001805461 361.0903 361.0939\n",
      "28  996.0 0.002701647 540.3267 540.3321\n"
     ]
    }
   ],
   "source": [
    "print(d_ID[c(23:28), c(1:9)])"
   ]
  },
  {
   "cell_type": "markdown",
   "metadata": {},
   "source": [
    "This gives the RT for the N-tetradecanoylaspartic acid standard as 930.0 seconds\n",
    "\n",
    "Now, calculate the difference between sample RT and standard RT for the sample mzRTs which could (by mz) be N-Tttradecanoylaspartic acid"
   ]
  },
  {
   "cell_type": "code",
   "execution_count": 33,
   "metadata": {},
   "outputs": [
    {
     "name": "stdout",
     "output_type": "stream",
     "text": [
      "[1] -10.183500  -4.920167 -10.115167\n"
     ]
    }
   ],
   "source": [
    "d_mzRT_Ntetradecanoylaspartic$RT_diff_min <- (d_mzRT_Ntetradecanoylaspartic$RT - 930.0)/60\n",
    "print(d_mzRT_Ntetradecanoylaspartic$RT_diff_min)"
   ]
  },
  {
   "cell_type": "markdown",
   "metadata": {},
   "source": [
    "All of the possible compounds to match N-tetradecanoylaspartic acid by m/z have a difference in retention time of at least 4.9 minutes - these cannot be the same compound. \n",
    "\n",
    "So, in summary: \n",
    " - Shibl et al. claimed to have identified 28 compounds that went into their heatmap\n",
    " - Of those 28, using a relatively liberal error of 5 ppm, 27 did not have a matching m/z in the available mzRT+intensity data\n",
    " - One of the \"identified\" compounds, N-tetradecanoylaspartic acid, had matches in the available mzRT+intensity data. However none of those matches had a retention time close to Shibl et al.'s N-tetradecanoylaspartic acid standard; therefore these mzRTs cannot be the same compound\n",
    " - 0 of the compounds reported as \"identified\" by Shibl et al. can be found in the available mzRT+intensity data"
   ]
  },
  {
   "cell_type": "code",
   "execution_count": 34,
   "metadata": {},
   "outputs": [
    {
     "data": {
      "text/html": [
       "<strong>png:</strong> 2"
      ],
      "text/latex": [
       "\\textbf{png:} 2"
      ],
      "text/markdown": [
       "**png:** 2"
      ],
      "text/plain": [
       "png \n",
       "  2 "
      ]
     },
     "metadata": {},
     "output_type": "display_data"
    },
    {
     "data": {
      "image/png": "[encoded data removed]",
      "text/plain": [
       "plot without title"
      ]
     },
     "metadata": {
      "image/png": {
       "height": 420,
       "width": 420
      }
     },
     "output_type": "display_data"
    }
   ],
   "source": [
    "##Plot this\n",
    "\n",
    "ID_result <- c('no mz match', 'mz match, no RT match')\n",
    "num_compounds <- c(27, 1)\n",
    "mzRT_results <- data.frame(ID_result, num_compounds)\n",
    "\n",
    "plot <- ggplot(mzRT_results, aes(x = ID_result, y = num_compounds, fill = ID_result))\n",
    "plot + geom_col(show.legend = FALSE) + theme_bw() + geom_text(aes(label=num_compounds), vjust= -0.5) + ylab(\"Number of compounds\") + xlab(\"ID result\")\n",
    "\n",
    "pdf(file = \"../output/metabolomics/mzRT_match_results.pdf\")\n",
    "plot + geom_col(show.legend = FALSE) + theme_bw() + geom_text(aes(label=num_compounds), vjust= -0.5) + ylab(\"Number of compounds\") + xlab(\"ID result\")\n",
    "dev.off()"
   ]
  },
  {
   "cell_type": "markdown",
   "metadata": {},
   "source": [
    "This is a pretty incredible degree of irreproducibility! I expected that the heatmap might look different, but also I expected that the compounds the authors said were in their data would actually be there. I checked my work manually, and checked with the rest of the Kujawmiski lab, and I don't believe that the mistake is in my processing. It's possible that the \"identified\" compounds didn't make it into Dataset_S01, although this would be contrary to the authors' words in other parts of the paper. There's no good explanation for what I've found here.  \n",
    "\n",
    "## Generate nonsensical heatmap\n",
    "\n",
    "Because the \"confirmed\" metabolites from Shibl et al. cannot be found in the list of sample mzRTs, generating a heatmap is a bit nonsensical. Regardless, this script is intended to be a quick exploration into how generating a heatmap would work, if I had relevant and reliable data. \n",
    "\n",
    "First, grab the data; ComplexHeatmap prefers only numeric data, so trim dataframe accordingly"
   ]
  },
  {
   "cell_type": "code",
   "execution_count": 35,
   "metadata": {},
   "outputs": [],
   "source": [
    "mtab_data <- \"../data/clean_data/metabolome/Dataset_S01_edit_3_R.csv\"\n",
    "d_mtab <- read.table(mtab_data, header = FALSE, sep = \",\", stringsAsFactors = FALSE)\n",
    "d_mtab_heatmap <- d_mtab[c(1:72), c(2:1238)]"
   ]
  },
  {
   "cell_type": "markdown",
   "metadata": {},
   "source": [
    "Now make a heatmap!"
   ]
  },
  {
   "cell_type": "code",
   "execution_count": 36,
   "metadata": {},
   "outputs": [
    {
     "data": {
      "text/html": [
       "<strong>png:</strong> 2"
      ],
      "text/latex": [
       "\\textbf{png:} 2"
      ],
      "text/markdown": [
       "**png:** 2"
      ],
      "text/plain": [
       "png \n",
       "  2 "
      ]
     },
     "metadata": {},
     "output_type": "display_data"
    },
    {
     "data": {
      "image/png": "[encoded data removed]",
      "text/plain": [
       "plot without title"
      ]
     },
     "metadata": {
      "image/png": {
       "height": 420,
       "width": 420
      }
     },
     "output_type": "display_data"
    }
   ],
   "source": [
    "d_mtab_heatmap <- data.matrix(d_mtab_heatmap)\n",
    "pdf(file = \"../output/metabolomics/heatmap_1.pdf\")\n",
    "heatmap(d_mtab_heatmap)\n",
    "dev.off()\n",
    "heatmap(d_mtab_heatmap)"
   ]
  },
  {
   "cell_type": "markdown",
   "metadata": {},
   "source": [
    "This obviously looks very different from the heatmap that the authors presented, as you might expect from a heatmap generated with a dramatically different list of compounds. "
   ]
  },
  {
   "cell_type": "code",
   "execution_count": null,
   "metadata": {},
   "outputs": [],
   "source": []
  }
 ],
 "metadata": {
  "kernelspec": {
   "display_name": "R",
   "language": "R",
   "name": "ir"
  },
  "language_info": {
   "codemirror_mode": "r",
   "file_extension": ".r",
   "mimetype": "text/x-r-source",
   "name": "R",
   "pygments_lexer": "r",
   "version": "4.1.1"
  }
 },
 "nbformat": 4,
 "nbformat_minor": 5
}
